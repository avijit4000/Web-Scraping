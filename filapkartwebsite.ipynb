{
 "cells": [
  {
   "cell_type": "code",
   "execution_count": 1,
   "metadata": {
    "collapsed": true,
    "pycharm": {
     "name": "#%%\n"
    }
   },
   "outputs": [],
   "source": [
    "from bs4 import BeautifulSoup as bs\n",
    "import requests as re"
   ]
  },
  {
   "cell_type": "code",
   "execution_count": 10,
   "outputs": [],
   "source": [
    "web=re.get(\"https://www.pdfdrive.com/\").text"
   ],
   "metadata": {
    "collapsed": false,
    "pycharm": {
     "name": "#%%\n"
    }
   }
  },
  {
   "cell_type": "code",
   "execution_count": 11,
   "outputs": [],
   "source": [
    "box=bs(web,'lxml')"
   ],
   "metadata": {
    "collapsed": false,
    "pycharm": {
     "name": "#%%\n"
    }
   }
  },
  {
   "cell_type": "code",
   "execution_count": 12,
   "outputs": [
    {
     "data": {
      "text/plain": "<!DOCTYPE html PUBLIC \"-//W3C//DTD XHTML 1.0 Transitional//EN\" \"http://www.w3.org/TR/xhtml1/DTD/xhtml1-transitional.dtd\">\n<html xmlns=\"http://www.w3.org/1999/xhtml\">\n<head>\n<meta content=\"text/html; charset=utf-8\" http-equiv=\"Content-Type\"/>\n<meta content=\"width=device-width,initial-scale=1.0,minimum-scale=1.0,maximum-scale=1.0,user-scalable=no,target-densitydpi=160\" name=\"viewport\"/>\n<meta content=\"CEhb1NNHLQ4klcuczJvERcX-C7xpyXPcwAB29LLiQgY\" name=\"google-site-verification\"/>\n<title>PDF Drive - Search and download PDF files for free.</title>\n<link href=\"//cdn.asaha.com\" rel=\"dns-prefetch\"/>\n<meta content=\"587d3e9c8ef97ef2\" name=\"yandex-verification\"/>\n<link crossorigin=\"anonymous\" href=\"https://stackpath.bootstrapcdn.com/bootstrap/4.0.0/css/bootstrap.min.css\" integrity=\"sha384-Gn5384xqQ1aoWXA+058RXPxPg6fy4IWvTNh0E263XmFcJlSAwiGgFAW/dAiS6JXm\" rel=\"stylesheet\"/>\n<link href=\"/assets/css/A.main.css,,qv3.84+responsive.css,,qv3.84+3rdparty.css,,qv3.84,Mcc.pKHzojP7JA.css.pagespeed.cf.TpGo09CqiG.css\" rel=\"stylesheet\" type=\"text/css\"/>\n<link href=\"https://fonts.googleapis.com/css?family=Roboto:400,500,700\" rel=\"stylesheet\"/>\n<link crossorigin=\"anonymous\" href=\"https://cdnjs.cloudflare.com/ajax/libs/font-awesome/5.15.3/css/all.min.css\" integrity=\"sha512-iBBXm8fW90+nuLcSKlbmrPcLa0OT92xO1BIsZ+ywDWZCvqsWgccV3gFoRBv0z+8dLJgyAHIhR35VZc2oM/gI1w==\" referrerpolicy=\"no-referrer\" rel=\"stylesheet\"/>\n<script src=\"https://ajax.googleapis.com/ajax/libs/jquery/3.1.1/jquery.min.js\"></script>\n<script>var lang={\"js_save_to_my_drive\":\"Save<span class=\\\"hidemobile\\\"> to My Drive<\\/span>\",\"js_save_to_my_drive_2\":\"Save to My Drive\",\"js_like\":\"Like\",\"js_search_for_books\":\"Search for books, tutorials, manuals and authors in %s files\",\"js_remote_file_unavailable_try_again\":\"Remote file seems unavailable right now, please try again later.\",\"js_save_file_for_quick_download\":\"You need to save the file to your drive for <strong>Quick Download<\\/strong> feature.\",\"js_save_file_for_quick_preview\":\"You need to save the file to your drive for <strong>Quick Preview<\\/strong> feature.\",\"js_remote_file_downloaded\":\"Remote file downloaded to <a href=\\\"\\/home\\/cloud\\\">My Drive.<\\/a><br\\/>Now you can preview and download it faster.\",\"js_added_to_wishlist\":\"Book added to your wishlist<br\\/>We will let you know when the book is available.\",\"js_an_error_occurred\":\"An error occurred, please try again later.\",\"js_out_of_storage\":\"You\\u2019re out of storage space and you can't save files to your drive until you\\u00a0<a href=\\\"\\/home\\/cloud\\\" style=\\\"color:#0921EA;text-decoration:underline;\\\">free up space<\\/a>\\u00a0or\\u00a0<a href=\\\"\\/premium\\\" style=\\\"color:#0921EA;text-decoration:underline;\\\">purchase additional storage.<\\/a>\",\"js_deleted_copyright\":\"Sorry, this file has been deleted due to copyright infringement!\"};</script>\n<meta content=\"http://www.pdfdrive.com/\" property=\"og:url\"/>\n<meta content=\"website\" property=\"og:type\"/>\n<meta content=\"PDF Drive - Search and download PDF files for free.\" property=\"og:title\"/>\n<meta content=\"PDF Drive is your search engine for PDF files. As of today we have 85,206,841 eBooks for you to download for free. No annoying ads, no download limits, enjoy it and don't forget to bookmark and share the love!\" property=\"og:description\"/>\n<meta content=\"https://www.pdfdrive.com/assets/img/logo-og-2-tn.png\" property=\"og:image\"/>\n<meta content=\"464\" property=\"og:image:width\"/>\n<meta content=\"600\" property=\"og:image:height\"/>\n<meta content=\"BC5450558E65B418CA902EF01FD0D85E\" name=\"msvalidate.01\"/>\n<script>var _gaq=_gaq||[];_gaq.push(['_setAccount','UA-118355843-2']);_gaq.push(['_trackPageview']);(function(i,s,o,g,r,a,m){i['GoogleAnalyticsObject']=r;i[r]=i[r]||function(){(i[r].q=i[r].q||[]).push(arguments)},i[r].l=1*new Date();a=s.createElement(o),m=s.getElementsByTagName(o)[0];a.async=1;a.src=g;m.parentNode.insertBefore(a,m)})(window,document,'script','//www.google-analytics.com/analytics.js','ga');ga('create','UA-154495440-1','auto');ga('send','pageview');</script>\n<script>var user={member:'0',premium:'0',email:'0',customer_id:'0',card_removed:'0'};var page='index';</script>\n<link href=\"/favicon.ico\" rel=\"shortcut icon\"/>\n</head>\n<body>\n<div class=\"waiting\" id=\"progress\">\n<dt></dt>\n<dd></dd>\n</div>\n<div id=\"top-menu-bg\">\n<div class=\"header FixedTop\" id=\"header\">\n<div id=\"logo\">\n<a href=\"/\">\n<img alt=\"\" border=\"0\" id=\"logo-img\" src=\"/assets/img/logo-1.png.pagespeed.ce.5UNSDNAJsC.png\" title=\"\"/>\n</a>\n</div>\n<form action=\"/search\" id=\"m-search-form\">\n<input autocomplete=\"off\" id=\"m-q\" maxlength=\"200\" name=\"q\" placeholder=\"Search for books\" required=\"\" type=\"text\" value=\"\"/>\n<button style=\"position: absolute;top: 13px;right: 12%;color: #6b6b6b;border: none;padding: 0;background: none;\" type=\"submit\">\n<i aria-hidden=\"true\" class=\"fa fa-search search-button\" style=\"font-size: 20px !important;\"></i>\n</button>\n<input id=\"r\" name=\"r\" type=\"hidden\" value=\"1\"/>\n</form>\n<div id=\"form-container\" style=\"position: relative;\">\n<form action=\"/search\" class=\"form-wrapper cf hidemobile\" id=\"search-form\">\n<input autocomplete=\"off\" id=\"q\" maxlength=\"200\" name=\"q\" placeholder=\"Search for books, tutorials, manuals and authors in - - - - - files\" required=\"\" type=\"text\" value=\"\"/>\n<button type=\"submit\"><i aria-hidden=\"true\" class=\"fa fa-search search-button\"></i></button>\n<input id=\"pagecount-hidden\" name=\"pagecount\" type=\"hidden\" value=\"\"/>\n<input id=\"pubyear-hidden\" name=\"pubyear\" type=\"hidden\" value=\"\"/>\n<input id=\"searchin-hidden\" name=\"searchin\" type=\"hidden\" value=\"\"/>\n<input id=\"em-hidden\" name=\"em\" type=\"hidden\" value=\"\"/>\n</form>\n</div>\n<div class=\"user-info clearfix\">\n<a class=\"btn-g hidemobile\" href=\"/auth/login?redirURL=%2F\" rel=\"nofollow\" role=\"button\">Sign in</a>\n<button aria-expanded=\"false\" aria-haspopup=\"true\" class=\"btn btn-primary btn-more dropdown-toggle dropdown-toggle-no-arrow hidemobile\" data-toggle=\"dropdown\" id=\"btnLang\" style=\"margin: -2px 0px 0px 5px;\" type=\"button\">\n<i class=\"fas fa-globe\"></i>\n</button>\n<div aria-labelledby=\"btnLang\" class=\"dropdown-menu dropdown-menu-right hidemobile\">\n<a class=\"dropdown-item\" href=\"https://www.pdfdrive.com/home/setLocal?url=\" onclick=\"ga('send', 'event', 'ChangeLanguage', 'English');\" rel=\"nofollow\">English</a>\n<a class=\"dropdown-item\" href=\"https://es.pdfdrive.com/home/setLocal?url=\" onclick=\"ga('send', 'event', 'ChangeLanguage', 'Español');\" rel=\"nofollow\">Español</a>\n<a class=\"dropdown-item\" href=\"https://ru.pdfdrive.com/home/setLocal?url=\" onclick=\"ga('send', 'event', 'ChangeLanguage', 'Русский');\" rel=\"nofollow\">Русский</a>\n</div>\n</div>\n<button aria-expanded=\"false\" aria-haspopup=\"true\" class=\"btn btn-primary btn-more dropdown-toggle dropdown-toggle-no-arrow hidedesktop\" data-toggle=\"dropdown\" id=\"btnLangMobile\" type=\"button\">\n<i class=\"fas fa-globe\"></i>\n</button>\n<div aria-labelledby=\"btnLangMobile\" class=\"dropdown-menu dropdown-menu-right hidemobile\">\n<a class=\"dropdown-item\" href=\"https://www.pdfdrive.com/home/setLocal?url=\" onclick=\"ga('send', 'event', 'ChangeLanguage', 'English');\" rel=\"nofollow\">English</a>\n<a class=\"dropdown-item\" href=\"https://es.pdfdrive.com/home/setLocal?url=\" onclick=\"ga('send', 'event', 'ChangeLanguage', 'Español');\" rel=\"nofollow\">Español</a>\n<a class=\"dropdown-item\" href=\"https://ru.pdfdrive.com/home/setLocal?url=\" onclick=\"ga('send', 'event', 'ChangeLanguage', 'Русский');\" rel=\"nofollow\">Русский</a>\n</div>\n<a href=\"javascript:void(0);\" id=\"menu-search\" onclick=\"toggleMSearch(); window.location.hash = '';\"><i class=\"fa fa-search\" id=\"m-search-icon\"></i></a>\n</div>\n<header>\n<div class=\"mobile-nav-button\">\n<div class=\"mobile-nav-button__line\"></div>\n<div class=\"mobile-nav-button__line\"></div>\n<div class=\"mobile-nav-button__line\"></div>\n</div>\n<nav class=\"mobile-menu\">\n<ul>\n<li><a class=\"mobile-link\" href=\"/\">Home</a></li>\n<li><a class=\"mobile-link\" href=\"/category/112\">Most Popular</a></li>\n<li><a class=\"mobile-link\" href=\"/category/113\">Editor's Picks</a></li>\n<li><a class=\"mobile-link\" href=\"#categories\">Explore</a></li>\n<li><a class=\"mobile-link\" href=\"/home/contact\">Contact</a></li>\n</ul>\n<div id=\"signin-mobile\">\n<a href=\"/auth/signup\">\n<i class=\"fas fa-sign-in-alt\" style=\"color: #1378D5;\"></i> Sign in </a>\n</div>\n</nav>\n</header>\n</div>\n<div class=\"dialog\">\n<div class=\"dialog-main\">\n<div class=\"dialog-left\">\n<div id=\"user-menu-header\"></div>\n<div class=\"alert alert-info alert-dismissible fade show\" id=\"welcome\" role=\"alert\">\n<button aria-label=\"Close\" class=\"close\" data-dismiss=\"alert\" onclick=\"setCookie('welcomed', 'true', 60);\n            ga('send', 'event', 'WelcomeClosed');\" style=\"opacity: 0.6;\" type=\"button\">\n<span aria-hidden=\"true\">×</span>\n</button>\n<strong>PDF Drive</strong> is your search engine for PDF files. As of today we have <span id=\"counter\" style=\"font-weight: 500;\">85,206,841</span> eBooks for you to <strong>download for free</strong>. No annoying ads, <strong>no download limits</strong>, enjoy it and don't forget to bookmark and share the love!</div>\n<div class=\"collection-title mb-2\">\n<a href=\"/category/127\"><i class=\"fas fa-gem\"></i> Best Books of the Week</a>\n</div>\n<div class=\"files-new\">\n<ul>\n<li><div class=\"row\"> <div class=\"col-sm\">\n<div class=\"file-left\">\n<a data-id=\"10172273\" href=\"/living-in-the-light-a-guide-to-personal-transformation-e10172273.html\">\n<img alt=\"Living in the Light: A guide to personal transformation\" class=\"img-zoom file-img\" data-original=\"https://cdn.asaha.com/assets/thumbs/9b8/9b88b7c17f496a61fc78505130af288e-s.jpg\" loading=\"lazy\" src=\"https://cdn.asaha.com/assets/thumbs/9b8/9b88b7c17f496a61fc78505130af288e-s.jpg\" title=\"Living in the Light: A guide to personal transformation\"/>\n</a>\n</div>\n<div class=\"file-right\">\n<a data-loc=\"1\" href=\"/living-in-the-light-a-guide-to-personal-transformation-e10172273.html\">\n<h2>Living in the Light: A guide to personal transformation</h2>\n</a>\n<div class=\"file-info\" data-id=\"10172273\"> <span class=\"fi-pagecount\">258 Pages</span><span class=\"ml-1 mr-1\">·</span><span class=\"fi-year\">2001</span><span class=\"ml-1 mr-1\">·</span><span class=\"fi-size hidemobile\">2.74 MB</span> <br/>\n</div>\ntransformation / Shakti Gawain, with Laurel King. — Completely rev such as\nThe Path of Transformation or Creating Tru  ...\n</div>\n</div>\n</div> </li>\n<li><div class=\"row\"> <div class=\"col-sm\">\n<div class=\"file-left\">\n<a data-id=\"58864799\" href=\"/give-and-take-why-helping-others-drives-our-success-e58864799.html\">\n<img alt=\"Give and Take: WHY HELPING OTHERS DRIVES OUR SUCCESS\" class=\"img-zoom file-img\" data-original=\"https://cdn.asaha.com/assets/thumbs/653/653f249a58f438ef343c5da5f023203d-s.jpg\" loading=\"lazy\" src=\"https://cdn.asaha.com/assets/thumbs/653/653f249a58f438ef343c5da5f023203d-s.jpg\" title=\"Give and Take: WHY HELPING OTHERS DRIVES OUR SUCCESS\"/>\n</a>\n</div>\n<div class=\"file-right\">\n<a data-loc=\"2\" href=\"/give-and-take-why-helping-others-drives-our-success-e58864799.html\">\n<h2>Give and Take: WHY HELPING OTHERS DRIVES OUR SUCCESS</h2>\n</a>\n<div class=\"file-info\" data-id=\"58864799\"> <span class=\"fi-pagecount\">260 Pages</span><span class=\"ml-1 mr-1\">·</span><span class=\"fi-year\">2011</span><span class=\"ml-1 mr-1\">·</span><span class=\"fi-size hidemobile\">1.57 MB</span> <br/>\n</div>\n“Give and Take is brimming with life-changing insights. “One of the great secrets of life is that those who win mo  ...\n</div>\n</div>\n</div> </li>\n<li><div class=\"row\"> <div class=\"col-sm\">\n<div class=\"file-left\">\n<a data-id=\"60737077\" href=\"/braiding-sweetgrass-indigenous-wisdom-scientific-knowledge-and-the-teachings-of-plants-e60737077.html\">\n<img alt=\"Braiding Sweetgrass: Indigenous Wisdom, Scientific Knowledge and the Teachings of Plants\" class=\"img-zoom file-img\" data-original=\"https://cdn.asaha.com/assets/thumbs/ed5/ed59854c54d482b0efb0ee9bebbd7a72-s.jpg\" loading=\"lazy\" src=\"https://cdn.asaha.com/assets/thumbs/ed5/ed59854c54d482b0efb0ee9bebbd7a72-s.jpg\" title=\"Braiding Sweetgrass: Indigenous Wisdom, Scientific Knowledge and the Teachings of Plants\"/>\n</a>\n</div>\n<div class=\"file-right\">\n<a data-loc=\"3\" href=\"/braiding-sweetgrass-indigenous-wisdom-scientific-knowledge-and-the-teachings-of-plants-e60737077.html\">\n<h2>Braiding Sweetgrass: Indigenous Wisdom, Scientific Knowledge and the Teachings of Plants</h2>\n</a>\n<div class=\"file-info\" data-id=\"60737077\"> <span class=\"fi-pagecount\">473 Pages</span><span class=\"ml-1 mr-1\">·</span><span class=\"fi-year\">2017</span><span class=\"ml-1 mr-1\">·</span><span class=\"fi-size hidemobile\">2.03 MB</span> <br/>\n</div>\nBraiding_Sweetgrass_-_Robin_Kimmerer.pdf Braiding Sweetgrass  ...\n</div>\n</div>\n</div> </li> <li class=\"liad\">\n</li>\n</ul>\n</div>\n<div class=\"collection-title mb-2\">\n<a href=\"/category/232\"><i class=\"far fa-grin-hearts\"></i> Books on Finding Your Passion and Purpose in Life</a>\n</div>\n<div class=\"files-new\">\n<ul>\n<li><div class=\"row\"> <div class=\"col-sm\">\n<div class=\"file-left\">\n<a data-id=\"14796117\" href=\"/i-am-malala-the-story-of-the-girl-who-stood-up-for-education-e14796117.html\">\n<img alt=\"I am Malala: The Story of the Girl Who Stood Up for Education\" class=\"img-zoom file-img\" data-original=\"https://cdn.asaha.com/assets/thumbs/969/96921e068f4aa96042ff3d9425368769-s.jpg\" loading=\"lazy\" src=\"https://cdn.asaha.com/assets/thumbs/969/96921e068f4aa96042ff3d9425368769-s.jpg\" title=\"I am Malala: The Story of the Girl Who Stood Up for Education\"/>\n</a>\n</div>\n<div class=\"file-right\">\n<a data-loc=\"1\" href=\"/i-am-malala-the-story-of-the-girl-who-stood-up-for-education-e14796117.html\">\n<h2>I am Malala: The Story of the Girl Who Stood Up for Education</h2>\n</a>\n<div class=\"file-info\" data-id=\"14796117\"> <span class=\"fi-pagecount\">195 Pages</span><span class=\"ml-1 mr-1\">·</span><span class=\"fi-year\">2012</span><span class=\"ml-1 mr-1\">·</span><span class=\"fi-size hidemobile\">3.04 MB</span> <br/>\n</div>\nalong the stinky stream, past the giant billboard for Dr Humayun's Hair Transplant\n. O Malalai of Maiwand, .. crammed t  ...\n</div>\n</div>\n</div> </li>\n<li><div class=\"row\"> <div class=\"col-sm\">\n<div class=\"file-left\">\n<a data-id=\"39563520\" href=\"/resisting-happiness-a-true-story-about-why-we-sabotage-ourselves-e39563520.html\">\n<img alt=\"Resisting Happiness: A True Story about Why We Sabotage Ourselves\" class=\"img-zoom file-img\" data-original=\"https://cdn.asaha.com/assets/thumbs/bf9/bf93b21ca6f860b22862fb495157ee5e-s.jpg\" loading=\"lazy\" src=\"https://cdn.asaha.com/assets/thumbs/bf9/bf93b21ca6f860b22862fb495157ee5e-s.jpg\" title=\"Resisting Happiness: A True Story about Why We Sabotage Ourselves\"/>\n</a>\n</div>\n<div class=\"file-right\">\n<a data-loc=\"2\" href=\"/resisting-happiness-a-true-story-about-why-we-sabotage-ourselves-e39563520.html\">\n<h2>Resisting Happiness: A True Story about Why We Sabotage Ourselves</h2>\n</a>\n<div class=\"file-info\" data-id=\"39563520\"> <span class=\"fi-pagecount\">32 Pages</span><span class=\"ml-1 mr-1\">·</span><span class=\"fi-year\">2017</span><span class=\"ml-1 mr-1\">·</span><span class=\"fi-size hidemobile\">258 KB</span> <br/>\n</div>\nso you can become the-best-version-of-yourself and start living with This study guide is designed to accompany Dynamic  ...\n</div>\n</div>\n</div> </li>\n<li><div class=\"row\"> <div class=\"col-sm\">\n<div class=\"file-left\">\n<a data-id=\"60375000\" href=\"/start-where-you-are-a-guide-to-compassionate-living-e60375000.html\">\n<img alt=\"Start Where You Are: A Guide to Compassionate Living\" class=\"img-zoom file-img\" data-original=\"https://cdn.asaha.com/assets/thumbs/f0f/f0f41178adda35d162a59e04ae087c74-s.jpg\" loading=\"lazy\" src=\"https://cdn.asaha.com/assets/thumbs/f0f/f0f41178adda35d162a59e04ae087c74-s.jpg\" title=\"Start Where You Are: A Guide to Compassionate Living\"/>\n</a>\n</div>\n<div class=\"file-right\">\n<a data-loc=\"3\" href=\"/start-where-you-are-a-guide-to-compassionate-living-e60375000.html\">\n<h2>Start Where You Are: A Guide to Compassionate Living</h2>\n</a>\n<div class=\"file-info\" data-id=\"60375000\"> <span class=\"fi-pagecount\">242 Pages</span><span class=\"ml-1 mr-1\">·</span><span class=\"fi-year\">2007</span><span class=\"ml-1 mr-1\">·</span><span class=\"fi-size hidemobile\">1022 KB</span> <br/>\n</div>\nPema_Chödrön_Start_Where_You_Are_A_Guide_to_C(zlibraryexau2g3p_onion).pdf Start Where You Are  ...\n</div>\n</div>\n</div> </li>\n<li><div class=\"row\"> <div class=\"col-sm\">\n<div class=\"file-left\">\n<a data-id=\"185720921\" href=\"/the-purpose-driven-life-what-on-earth-am-i-here-for-e185720921.html\">\n<img alt=\"The Purpose-Driven Life: What on Earth Am I Here For?\" class=\"img-zoom file-img\" data-original=\"https://cdn.asaha.com/assets/thumbs/f09/f093c203496024043455817fd7a7ef3f-s.jpg\" loading=\"lazy\" src=\"https://cdn.asaha.com/assets/thumbs/f09/f093c203496024043455817fd7a7ef3f-s.jpg\" title=\"The Purpose-Driven Life: What on Earth Am I Here For?\"/>\n</a>\n</div>\n<div class=\"file-right\">\n<a data-loc=\"4\" href=\"/the-purpose-driven-life-what-on-earth-am-i-here-for-e185720921.html\">\n<h2>The Purpose-Driven Life: What on Earth Am I Here For?</h2>\n</a>\n<div class=\"file-info\" data-id=\"185720921\"> <span class=\"fi-year\">2003</span><span class=\"ml-1 mr-1\">·</span><span class=\"fi-size hidemobile\">3.65 MB</span><span class=\"ml-1 mr-1\">·</span><span class=\"new\">New!</span> <br/>\n</div>\nThe #1 New York Times Bestseller, with over 3 million sold, now available in a large print edition The Purpose Driven Li  ...\n</div>\n</div>\n</div> </li> <li class=\"liad\">\n</li>\n</ul>\n</div>\n<div class=\"collection-title mb-2\">\n<a href=\"/category/253\"><i class=\"far fa-compass\"></i> Parenting Books to Raise Grateful, Healthy &amp; Happy Childen</a>\n</div>\n<div class=\"files-new\">\n<ul>\n<li><div class=\"row\"> <div class=\"col-sm\">\n<div class=\"file-left\">\n<a data-id=\"60737124\" href=\"/no-drama-discipline-the-whole-brain-way-to-calm-the-chaos-and-nurture-your-childs-developing-mind-e60737124.html\">\n<img alt=\"No-Drama Discipline: The Whole-Brain Way to Calm the Chaos and Nurture Your Child's Developing Mind\" class=\"img-zoom file-img\" data-original=\"https://cdn.asaha.com/assets/thumbs/8b3/8b39526b4c12048aecea13ece6340e82-s.jpg\" loading=\"lazy\" src=\"https://cdn.asaha.com/assets/thumbs/8b3/8b39526b4c12048aecea13ece6340e82-s.jpg\" title=\"No-Drama Discipline: The Whole-Brain Way to Calm the Chaos and Nurture Your Child's Developing Mind\"/>\n</a>\n</div>\n<div class=\"file-right\">\n<a data-loc=\"1\" href=\"/no-drama-discipline-the-whole-brain-way-to-calm-the-chaos-and-nurture-your-childs-developing-mind-e60737124.html\">\n<h2>No-Drama Discipline: The Whole-Brain Way to Calm the Chaos and Nurture Your Child's Developing Mind</h2>\n</a>\n<div class=\"file-info\" data-id=\"60737124\"> <span class=\"fi-pagecount\">345 Pages</span><span class=\"ml-1 mr-1\">·</span><span class=\"fi-year\">2017</span><span class=\"ml-1 mr-1\">·</span><span class=\"fi-size hidemobile\">13.27 MB</span> <br/>\n</div>\nNo-Drama_Discipline_-_Daniel_J__Siegel.pdf No-Drama Discipline  ...\n</div>\n</div>\n</div> </li>\n<li><div class=\"row\"> <div class=\"col-sm\">\n<div class=\"file-left\">\n<a data-id=\"60737129\" href=\"/1-2-3-magic-3-step-discipline-for-calm-effective-and-happy-parenting-e60737129.html\">\n<img alt=\"1-2-3 Magic: 3-Step Discipline for Calm, Effective, and Happy Parenting\" class=\"img-zoom file-img\" data-original=\"https://cdn.asaha.com/assets/thumbs/d5f/d5f323efe9f69a5974290387dd621bf0-s.jpg\" loading=\"lazy\" src=\"https://cdn.asaha.com/assets/thumbs/d5f/d5f323efe9f69a5974290387dd621bf0-s.jpg\" title=\"1-2-3 Magic: 3-Step Discipline for Calm, Effective, and Happy Parenting\"/>\n</a>\n</div>\n<div class=\"file-right\">\n<a data-loc=\"2\" href=\"/1-2-3-magic-3-step-discipline-for-calm-effective-and-happy-parenting-e60737129.html\">\n<h2>1-2-3 Magic: 3-Step Discipline for Calm, Effective, and Happy Parenting</h2>\n</a>\n<div class=\"file-info\" data-id=\"60737129\"> <span class=\"fi-pagecount\">322 Pages</span><span class=\"ml-1 mr-1\">·</span><span class=\"fi-year\">2017</span><span class=\"ml-1 mr-1\">·</span><span class=\"fi-size hidemobile\">6.23 MB</span> <br/>\n</div>\n1-2-3_Magic__3-Step_Discipline_for_Calm,_E_-_Thomas_W__Phelan.pdf 1-2-3 Magic: 3-Step Discipline for Calm, Effective, an  ...\n</div>\n</div>\n</div> </li>\n<li><div class=\"row\"> <div class=\"col-sm\">\n<div class=\"file-left\">\n<a data-id=\"60737125\" href=\"/the-explosive-child-a-new-approach-for-understanding-and-parenting-easily-frustrated-chronically-i-e60737125.html\">\n<img alt=\"The Explosive Child: A New Approach for Understanding and Parenting Easily Frustrated, Chronically I\" class=\"img-zoom file-img\" data-original=\"https://cdn.asaha.com/assets/thumbs/9bd/9bd7628990a72a420d1fda917a2d6912-s.jpg\" loading=\"lazy\" src=\"https://cdn.asaha.com/assets/thumbs/9bd/9bd7628990a72a420d1fda917a2d6912-s.jpg\" title=\"The Explosive Child: A New Approach for Understanding and Parenting Easily Frustrated, Chronically I\"/>\n</a>\n</div>\n<div class=\"file-right\">\n<a data-loc=\"3\" href=\"/the-explosive-child-a-new-approach-for-understanding-and-parenting-easily-frustrated-chronically-i-e60737125.html\">\n<h2>The Explosive Child: A New Approach for Understanding and Parenting Easily Frustrated, Chronically I</h2>\n</a>\n<div class=\"file-info\" data-id=\"60737125\"> <span class=\"fi-pagecount\">318 Pages</span><span class=\"ml-1 mr-1\">·</span><span class=\"fi-year\">2010</span><span class=\"ml-1 mr-1\">·</span><span class=\"fi-size hidemobile\">714 KB</span> <br/>\n</div>\nRoss_W__Greene_The_Explosive_Child_A_New_Approa(zlibraryexau2g3p_onion).pdf  ...\n</div>\n</div>\n</div> </li> <li class=\"liad\">\n</li>\n</ul>\n</div>\n<div class=\"collection-title mb-2\">\n<a href=\"/category/211\"><i class=\"fas fa-dove\"></i> Books That Will Help You Love and Accept Yourself</a>\n</div>\n<div class=\"files-new\">\n<ul>\n<li><div class=\"row\"> <div class=\"col-sm\">\n<div class=\"file-left\">\n<a data-id=\"60365102\" href=\"/the-gifts-of-imperfection-embrace-who-you-are-e60365102.html\">\n<img alt=\"The Gifts of Imperfection: Embrace Who You Are\" class=\"img-zoom file-img\" data-original=\"https://cdn.asaha.com/assets/thumbs/8a5/8a57e63db9422e1ebac221fe091f7505-s.jpg\" loading=\"lazy\" src=\"https://cdn.asaha.com/assets/thumbs/8a5/8a57e63db9422e1ebac221fe091f7505-s.jpg\" title=\"The Gifts of Imperfection: Embrace Who You Are\"/>\n</a>\n</div>\n<div class=\"file-right\">\n<a data-loc=\"1\" href=\"/the-gifts-of-imperfection-embrace-who-you-are-e60365102.html\">\n<h2>The Gifts of Imperfection: Embrace Who You Are</h2>\n</a>\n<div class=\"file-info\" data-id=\"60365102\"> <span class=\"fi-pagecount\">98 Pages</span><span class=\"ml-1 mr-1\">·</span><span class=\"fi-year\">2015</span><span class=\"ml-1 mr-1\">·</span><span class=\"fi-size hidemobile\">1.1 MB</span> <br/>\n</div>\nBrene_Brown_The_Gifts_of_Imperfection_Let_Go_of(zlibraryexau2g3p_onion).pdf The Gifts of Imperfection: Let Go of Who You  ...\n</div>\n</div>\n</div> </li>\n<li><div class=\"row\"> <div class=\"col-sm\">\n<div class=\"file-left\">\n<a data-id=\"61378075\" href=\"/the-choice-embrace-the-possible-e61378075.html\">\n<img alt=\"The Choice: Embrace the Possible\" class=\"img-zoom file-img\" data-original=\"https://cdn.asaha.com/assets/thumbs/d8a/d8a2d988cf491e9155be046d47b60319-s.jpg\" loading=\"lazy\" src=\"https://cdn.asaha.com/assets/thumbs/d8a/d8a2d988cf491e9155be046d47b60319-s.jpg\" title=\"The Choice: Embrace the Possible\"/>\n</a>\n</div>\n<div class=\"file-right\">\n<a data-loc=\"2\" href=\"/the-choice-embrace-the-possible-e61378075.html\">\n<h2>The Choice: Embrace the Possible</h2>\n</a>\n<div class=\"file-info\" data-id=\"61378075\"> <span class=\"fi-pagecount\">359 Pages</span><span class=\"ml-1 mr-1\">·</span><span class=\"fi-year\">2017</span><span class=\"ml-1 mr-1\">·</span><span class=\"fi-size hidemobile\">1.99 MB</span> <br/>\n</div>\nThe_Choice_-_Edith_Eva_Eger.pdf The Choice  ...\n</div>\n</div>\n</div> </li> </ul>\n</div>\n<div class=\"collection-title mb-2\">\n<a href=\"/category/176\"><i class=\"fab fa-gripfire\"></i> Best Motivational Books to Take Charge of Your Life</a>\n</div>\n<div class=\"files-new\">\n<ul>\n<li><div class=\"row\"> <div class=\"col-sm\">\n<div class=\"file-left\">\n<a data-id=\"60363043\" href=\"/boundaries-when-to-say-yes-how-to-say-no-to-take-control-of-your-life-e60363043.html\">\n<img alt=\"Boundaries: When to Say Yes, How to Say No to Take Control of Your Life\" class=\"img-zoom file-img\" data-original=\"https://cdn.asaha.com/assets/thumbs/436/4363a573dce18de6452986dcee9e54eb-s.jpg\" loading=\"lazy\" src=\"https://cdn.asaha.com/assets/thumbs/436/4363a573dce18de6452986dcee9e54eb-s.jpg\" title=\"Boundaries: When to Say Yes, How to Say No to Take Control of Your Life\"/>\n</a>\n</div>\n<div class=\"file-right\">\n<a data-loc=\"1\" href=\"/boundaries-when-to-say-yes-how-to-say-no-to-take-control-of-your-life-e60363043.html\">\n<h2>Boundaries: When to Say Yes, How to Say No to Take Control of Your Life</h2>\n</a>\n<div class=\"file-info\" data-id=\"60363043\"> <span class=\"fi-pagecount\">357 Pages</span><span class=\"ml-1 mr-1\">·</span><span class=\"fi-year\">2001</span><span class=\"ml-1 mr-1\">·</span><span class=\"fi-size hidemobile\">1.9 MB</span> <br/>\n</div>\nDr__Henry_Cloud,_Dr__John_Townsend_Boundaries_W(zlibraryexau2g3p_onion).pdf Boundaries Henry Cloud  ...\n</div>\n</div>\n</div> </li>\n<li><div class=\"row\"> <div class=\"col-sm\">\n<div class=\"file-left\">\n<a data-id=\"60374999\" href=\"/the-5-second-rule-transform-your-life-work-and-confidence-with-everyday-courage-e60374999.html\">\n<img alt=\"The 5 Second Rule: Transform your Life, Work, and Confidence with Everyday Courage\" class=\"img-zoom file-img\" data-original=\"https://cdn.asaha.com/assets/thumbs/52c/52cd4079b54f1fbcb5d6bc581a73618b-s.jpg\" loading=\"lazy\" src=\"https://cdn.asaha.com/assets/thumbs/52c/52cd4079b54f1fbcb5d6bc581a73618b-s.jpg\" title=\"The 5 Second Rule: Transform your Life, Work, and Confidence with Everyday Courage\"/>\n</a>\n</div>\n<div class=\"file-right\">\n<a data-loc=\"2\" href=\"/the-5-second-rule-transform-your-life-work-and-confidence-with-everyday-courage-e60374999.html\">\n<h2>The 5 Second Rule: Transform your Life, Work, and Confidence with Everyday Courage</h2>\n</a>\n<div class=\"file-info\" data-id=\"60374999\"> <span class=\"fi-pagecount\">252 Pages</span><span class=\"ml-1 mr-1\">·</span><span class=\"fi-year\">2017</span><span class=\"ml-1 mr-1\">·</span><span class=\"fi-size hidemobile\">11.94 MB</span> <br/>\n</div>\nMel_Robbins_The_5_Second_Rule_Transform_your_Li(zlibraryexau2g3p_onion).pdf The 5 Second Rule: Transform Your Life, Work  ...\n</div>\n</div>\n</div> </li>\n<li><div class=\"row\"> <div class=\"col-sm\">\n<div class=\"file-left\">\n<a data-id=\"61378067\" href=\"/the-daily-stoic-366-meditations-on-wisdom-perseverance-and-the-art-of-living-e61378067.html\">\n<img alt=\"The Daily Stoic: 366 Meditations on Wisdom, Perseverance, and the Art of Living\" class=\"img-zoom file-img\" data-original=\"https://cdn.asaha.com/assets/thumbs/8d2/8d24bb902a2301e24766a6b00df41f14-s.jpg\" loading=\"lazy\" src=\"https://cdn.asaha.com/assets/thumbs/8d2/8d24bb902a2301e24766a6b00df41f14-s.jpg\" title=\"The Daily Stoic: 366 Meditations on Wisdom, Perseverance, and the Art of Living\"/>\n</a>\n</div>\n<div class=\"file-right\">\n<a data-loc=\"3\" href=\"/the-daily-stoic-366-meditations-on-wisdom-perseverance-and-the-art-of-living-e61378067.html\">\n<h2>The Daily Stoic: 366 Meditations on Wisdom, Perseverance, and the Art of Living</h2>\n</a>\n<div class=\"file-info\" data-id=\"61378067\"> <span class=\"fi-pagecount\">406 Pages</span><span class=\"ml-1 mr-1\">·</span><span class=\"fi-year\">2017</span><span class=\"ml-1 mr-1\">·</span><span class=\"fi-size hidemobile\">2.6 MB</span> <br/>\n</div>\nHanselman,_Stephen_Holiday,_Ryan_The_daily_stoi(zlibraryexau2g3p_onion).pdf The Daily Stoic  ...\n</div>\n</div>\n</div> </li> </ul>\n</div>\n<div class=\"files-new\">\n<ul>\n</ul>\n</div>\n<div class=\"loadmore\">\n<div class=\"moreButton\" id=\"moreButton\" onclick=\"loadMore(5, 'daily'); ga('send', 'event', 'Load more similar files homepage');\">\n<i aria-hidden=\"true\" class=\"fa fa-chevron-circle-down\" style=\"color: #2d96c3; margin-right: 8px;\"></i> Load more files</div>\n</div>\n<div class=\"horizontal-scrollable-tabs mt-3\" id=\"js_image_selection\">\n<div class=\"p-3\" style=\"font-weight: 700;color: #4A4848;font-size: 23px;\">Educational Videos</div>\n<div class=\"scroller arrow-left\"><i class=\"fas fa-chevron-circle-left\"></i></div>\n<div class=\"scroller arrow-right\"><i class=\"fas fa-chevron-circle-right\"></i></div>\n<div class=\"horizontal-tabs\">\n<ul class=\"nav-tabs nav-tabs-horizontal\" role=\"tablist\">\n<li role=\"presentation\">\n<a class=\"yt-video-link\" data-id=\"197\" data-toggle=\"tab\" href=\"#FcMa9n0WteA\"><img src=\"https://img.youtube.com/vi/FcMa9n0WteA/mqdefault.jpg\"/></a>\n<div class=\"yt-video-title\">\nThis company tested out a 4-day workweek. </div>\n</li>\n<li role=\"presentation\">\n<a class=\"yt-video-link\" data-id=\"204\" data-toggle=\"tab\" href=\"#PudZNM276CY\"><img src=\"https://img.youtube.com/vi/PudZNM276CY/mqdefault.jpg\"/></a>\n<div class=\"yt-video-title\">\nMoney, happiness and eternal life - Greed </div>\n</li>\n<li role=\"presentation\">\n<a class=\"yt-video-link\" data-id=\"113\" data-toggle=\"tab\" href=\"#wTblbYqQQag\"><img src=\"https://img.youtube.com/vi/wTblbYqQQag/mqdefault.jpg\"/></a>\n<div class=\"yt-video-title\">\nJim Carrey - What It All Means </div>\n</li>\n<li role=\"presentation\">\n<a class=\"yt-video-link\" data-id=\"43\" data-toggle=\"tab\" href=\"#eOUWgtbIhgE\"><img src=\"https://img.youtube.com/vi/eOUWgtbIhgE/mqdefault.jpg\"/></a>\n<div class=\"yt-video-title\">\nThe War on Consciousness - Graham Hancock </div>\n</li>\n<li role=\"presentation\">\n<a class=\"yt-video-link\" data-id=\"176\" data-toggle=\"tab\" href=\"#j01Hg4QJ6NE\"><img src=\"https://img.youtube.com/vi/j01Hg4QJ6NE/mqdefault.jpg\"/></a>\n<div class=\"yt-video-title\">\nBest Friend - Animation Short Film </div>\n</li>\n<li role=\"presentation\">\n<a class=\"yt-video-link\" data-id=\"141\" data-toggle=\"tab\" href=\"#1aLeYLRrW3U\"><img src=\"https://img.youtube.com/vi/1aLeYLRrW3U/mqdefault.jpg\"/></a>\n<div class=\"yt-video-title\">\nIf We Love | Short Film </div>\n</li>\n<li role=\"presentation\">\n<a class=\"yt-video-link\" data-id=\"211\" data-toggle=\"tab\" href=\"#mRqR4mOC4gc\"><img src=\"https://img.youtube.com/vi/mRqR4mOC4gc/mqdefault.jpg\"/></a>\n<div class=\"yt-video-title\">\nAnxiety - Short Film </div>\n</li>\n<li role=\"presentation\">\n<a class=\"yt-video-link\" data-id=\"183\" data-toggle=\"tab\" href=\"#kak8PEl_v1I\"><img src=\"https://img.youtube.com/vi/kak8PEl_v1I/mqdefault.jpg\"/></a>\n<div class=\"yt-video-title\">\nListen to this before you start your day! </div>\n</li>\n<li role=\"presentation\">\n<a class=\"yt-video-link\" data-id=\"218\" data-toggle=\"tab\" href=\"#sp6mRYzjqCE\"><img src=\"https://img.youtube.com/vi/sp6mRYzjqCE/mqdefault.jpg\"/></a>\n<div class=\"yt-video-title\">\nPractice This For a Few MINUTES Each day </div>\n</li>\n<li role=\"presentation\">\n<a class=\"yt-video-link\" data-id=\"190\" data-toggle=\"tab\" href=\"#n6sTlukHLiA\"><img src=\"https://img.youtube.com/vi/n6sTlukHLiA/mqdefault.jpg\"/></a>\n<div class=\"yt-video-title\">\nThe One Thing Only 1% of People Do </div>\n</li>\n<li role=\"presentation\">\n<a class=\"yt-video-link\" data-id=\"134\" data-toggle=\"tab\" href=\"#7bB_fVDlvhc\"><img src=\"https://img.youtube.com/vi/7bB_fVDlvhc/mqdefault.jpg\"/></a>\n<div class=\"yt-video-title\">\nWhy I read a book a day (and why you should too) </div>\n</li>\n<li role=\"presentation\">\n<a class=\"yt-video-link\" data-id=\"57\" data-toggle=\"tab\" href=\"#UF8uR6Z6KLc\"><img src=\"https://img.youtube.com/vi/UF8uR6Z6KLc/mqdefault.jpg\"/></a>\n<div class=\"yt-video-title\">\nSteve Jobs' 2005 Stanford Commencement Address </div>\n</li>\n</ul>\n</div>\n</div>\n<div class=\"tab-content\">\n<div class=\"yt-video-container\" role=\"tabpanel\" style=\"display:none;\">\n<iframe allowfullscreen=\"\" border=\"0\" class=\"yt-video\" frameborder=\"0\" mozallowfullscreen=\"\" src=\"\" type=\"text/html\" webkitallowfullscreen=\"\"></iframe>\n</div>\n</div>\n</div>\n<div class=\"dialog-right\">\n<div id=\"user-menu-right\"></div>\n<div class=\"mr-1 mb-2\" style=\"font-size:14px;\"><i class=\"fab fa-hotjar\"></i>\n<a href=\"/request-a-book\" onclick=\"ga('send', 'event', 'hope-promo', 'maincats');\" style=\"font-weight: 500;\">Pdfdrive:hope</a> Give books away. Get books you want.</div>\n<div id=\"recommended\"></div>\n<div id=\"ebook-reviews\"></div>\n<div class=\"box\" id=\"categories\">\n<div class=\"categories-list\">\n<ul>\n<li>\n<a href=\"/category/113\">\n<img alt=\"Editor's Picks\" class=\"img-polaroid\" src=\"/assets/img/cat/113.jpg,q1.pagespeed.ce.mkYymIWWrJ.jpg\" title=\"Editor's Picks\"/>\n<p>Editor's Picks</p>\n</a>\n</li>\n<li>\n<a href=\"/category/112\">\n<img alt=\"Most Popular\" class=\"img-polaroid\" src=\"/assets/img/cat/112.jpg,q1.pagespeed.ce.Xe6gOhTcER.jpg\" title=\"Most Popular\"/>\n<p>Most Popular</p>\n</a>\n</li>\n<li>\n<a href=\"/category/6\">\n<img alt=\"Academic &amp; Education\" class=\"img-polaroid\" src=\"/assets/img/cat/6.jpg,q1.pagespeed.ce.faGoLXw_Zo.jpg\" title=\"Academic &amp; Education\"/>\n<p>Academic &amp; Education</p>\n</a>\n</li>\n<li>\n<a href=\"/category/1\">\n<img alt=\"Art\" class=\"img-polaroid\" src=\"/assets/img/cat/1.jpg,q1.pagespeed.ce.-rhdJZ7irU.jpg\" title=\"Art\"/>\n<p>Art</p>\n</a>\n</li>\n<li>\n<a href=\"/category/16\">\n<img alt=\"Biography\" class=\"img-polaroid\" src=\"/assets/img/cat/16.jpg,q1.pagespeed.ce.zwzmmHmCkd.jpg\" title=\"Biography\"/>\n<p>Biography</p>\n</a>\n</li>\n<li>\n<a href=\"/category/3\">\n<img alt=\"Business &amp; Career\" class=\"img-polaroid\" src=\"/assets/img/cat/3.jpg,q1.pagespeed.ce.aSeZkTbnd7.jpg\" title=\"Business &amp; Career\"/>\n<p>Business &amp; Career</p>\n</a>\n</li>\n<li>\n<a href=\"/category/17\">\n<img alt=\"Children &amp; Youth\" class=\"img-polaroid\" src=\"/assets/img/cat/17.jpg,q1.pagespeed.ce.bADb2_dTk7.jpg\" title=\"Children &amp; Youth\"/>\n<p>Children &amp; Youth</p>\n</a>\n</li>\n<li>\n<a href=\"/category/18\">\n<img alt=\"Environment\" class=\"img-polaroid\" src=\"/assets/img/cat/18.jpg,q1.pagespeed.ce.vjPjtEIVKT.jpg\" title=\"Environment\"/>\n<p>Environment</p>\n</a>\n</li>\n<li>\n<a href=\"/category/11\">\n<img alt=\"Fiction &amp; Literature\" class=\"img-polaroid\" src=\"/assets/img/cat/11.jpg,q1.pagespeed.ce.DGFb-dl2_M.jpg\" title=\"Fiction &amp; Literature\"/>\n<p>Fiction &amp; Literature</p>\n</a>\n</li>\n<li>\n<a href=\"/category/8\">\n<img alt=\"Health &amp; Fitness\" class=\"img-polaroid\" src=\"/assets/img/cat/8.jpg,q1.pagespeed.ce.OuzH2mMuOP.jpg\" title=\"Health &amp; Fitness\"/>\n<p>Health &amp; Fitness</p>\n</a>\n</li>\n<li>\n<a href=\"/category/19\">\n<img alt=\"Lifestyle\" class=\"img-polaroid\" src=\"/assets/img/cat/19.jpg,q1.pagespeed.ce.HauFtH45bw.jpg\" title=\"Lifestyle\"/>\n<p>Lifestyle</p>\n</a>\n</li>\n<li>\n<a href=\"/category/4\">\n<img alt=\"Personal Growth\" class=\"img-polaroid\" src=\"/assets/img/cat/4.jpg,q1.pagespeed.ce.DJYM8KxsPA.jpg\" title=\"Personal Growth\"/>\n<p>Personal Growth</p>\n</a>\n</li>\n<li>\n<a href=\"/category/15\">\n<img alt=\"Politics &amp; Laws\" class=\"img-polaroid\" src=\"/assets/img/cat/15.jpg,q1.pagespeed.ce.C7piLVryvI.jpg\" title=\"Politics &amp; Laws\"/>\n<p>Politics &amp; Laws</p>\n</a>\n</li>\n<li>\n<a href=\"/category/10\">\n<img alt=\"Religion\" class=\"img-polaroid\" src=\"/assets/img/cat/10.jpg,q1.pagespeed.ce.w8ZghX1Xa9.jpg\" title=\"Religion\"/>\n<p>Religion</p>\n</a>\n</li>\n<li>\n<a href=\"/category/14\">\n<img alt=\"Science &amp; Research\" class=\"img-polaroid\" src=\"/assets/img/cat/14.jpg,q1.pagespeed.ce.FOEGkoiVh7.jpg\" title=\"Science &amp; Research\"/>\n<p>Science &amp; Research</p>\n</a>\n</li>\n<li>\n<a href=\"/category/5\">\n<img alt=\"Technology\" class=\"img-polaroid\" src=\"/assets/img/cat/5.jpg,q1.pagespeed.ce.s9tlpDKaed.jpg\" title=\"Technology\"/>\n<p>Technology</p>\n</a>\n</li>\n</ul>\n</div>\n<form class=\"form-inline hidemobile\" onsubmit=\"validate('cats'); return false;\">\n<span id=\"subscribe-heading\">Get Top Trending Free Books in Your Inbox</span>\n<div id=\"subscribebox-cats\">\n<div class=\"input-group input-group-sm\" style=\"width: 350px;height: 40px;\">\n<input autocomplete=\"on\" class=\"form-control\" id=\"email-cats\" name=\"email\" placeholder=\"Enter your email\" required=\"\" type=\"text\" value=\"\"/>\n<span class=\"input-group-btn\">\n<button class=\"btn btn-danger subscribe-btn\" type=\"submit\">Subscribe</button>\n</span>\n</div>\n</div>\n</form>\n<div class=\"quotes\">“ In the end only three things matter: how much you loved, how gently you lived, and how gracefully you let go of things not meant for you. ” ― <strong>Anonymous</strong></div>\n</div>\n<div class=\"quotes mb-2\" id=\"ask-yourself\"><strong><i class=\"fas fa-question-circle\"></i> Ask yourself:</strong> What are you most grateful for in life? <a href=\"javascript:askYourself();\" id=\"ask-yourself-next\">Next</a></div>\n<div class=\"mt-3 mb-3\">\n<script async=\"\" src=\"https://pagead2.googlesyndication.com/pagead/js/adsbygoogle.js\"></script>\n<ins class=\"adsbygoogle\" data-ad-client=\"ca-pub-7910112472671819\" data-ad-format=\"auto\" data-ad-slot=\"3127563976\" data-full-width-responsive=\"true\" style=\"display:block\"></ins>\n<script>(adsbygoogle=window.adsbygoogle||[]).push({});</script>\n</div>\n</div>\n<div style=\"clear:both;\"></div>\n</div>\n<div aria-labelledby=\"pdfdriveAlerts\" class=\"modal fade\" id=\"pdfdriveAlerts\" role=\"dialog\" tabindex=\"-1\">\n<div class=\"modal-dialog\" role=\"document\">\n<div class=\"modal-content alerts-content\">\n<div class=\"modal-body alerts-body mb-4\">\n<img alt=\"free e-books\" class=\"alerts-img\" id=\"pdfdriveAlertsImg\"/>\n<i class=\"fas fa-times\" onclick=\"$('#pdfdriveAlerts').modal('hide')\" style=\"position: absolute;top: 0px;right: 0px;padding: 9px;color: #fff;cursor:pointer;\"></i>\n<form class=\"form-inline pt-1\" onsubmit=\"validate('alerts'); return false;\">\n<div class=\"alerts-heading\">Get Top Trending Free Books in Your Inbox</div>\n<div id=\"subscribebox-alerts\" style=\"margin: 0px auto;\">\n<div class=\"input-group input-group-sm\" style=\"height: 40px; margin: 0px auto;\">\n<input autocomplete=\"on\" class=\"alerts-email form-control\" id=\"email-alerts\" name=\"email\" placeholder=\"Enter your email\" required=\"\" type=\"text\" value=\"\"/>\n<span class=\"input-group-btn\">\n<button class=\"btn btn-danger subscribe-btn\" type=\"submit\">Subscribe</button>\n</span>\n</div>\n</div>\n</form>\n</div>\n</div>\n</div>\n</div>\n<div class=\"footer\" id=\"footer\">\n<div class=\"footer-section\" id=\"footer-logo\" style=\"text-align: center;\">\n<a href=\"/\">\n<img alt=\"PDF Search Engine\" border=\"0\" src=\"/assets/img/logo-1.png.pagespeed.ce.5UNSDNAJsC.png\" style=\"padding-top: 45px;\" title=\"PDF Search Engine\" width=\"175\"/>\n</a>\n</div>\n<div class=\"footer-section\">\n<div class=\"footer-title\" title=\"0.0134 / 07-12-2023 17:20:14 / 195.201.87.181\">\nCompany </div> <br/>\n<a href=\"/home/about\" rel=\"nofollow\">About</a><br/>\n<a href=\"/app\">Mobile App</a><br/>\n<a href=\"/home/terms\" rel=\"nofollow\">Terms &amp; Privacy</a><br/>\n</div>\n<div class=\"footer-section\">\n<div class=\"footer-title\">Social</div><br/>\n<a href=\"https://twitter.com/pdfdrive\" target=\"_blank\">Twitter</a><br/>\n<a href=\"https://www.facebook.com/pdfdrive\" target=\"_blank\">Facebook</a>\n</div>\n<div class=\"footer-section\">\n<div class=\"footer-title\">Help</div><br/>\n<a href=\"/home/contact\" rel=\"nofollow\">Contact us</a><br/>\n<a href=\"/home/contact\" rel=\"nofollow\">Feedback</a><br/>\n<a href=\"/home/dmca\" rel=\"nofollow\">DMCA &amp; Copyright</a><br/>\n</div>\n<div style=\"clear:both\"></div>\n</div>\n</div>\n<script src=\"/assets/js/combined.js,qv3.84.pagespeed.jm.3BGFzs7v9X.js\" type=\"text/javascript\"></script>\n<script type=\"text/javascript\">function toggleMSearch(){if($(\"#m-search-form\").is(\":visible\")){if($(\"#m-q\").val()==\"\"){$('#m-search-form').hide();$('#m-search-icon').removeClass('fa-times-circle');$('#m-search-icon').addClass('fa-seach');$('#btnLangMobile').show();history.replaceState(null,null,window.location.href);}else{$(\"#m-q\").val('');$('#m-q').focus();}}else{$('#m-search-form').show();$('#m-search-icon').removeClass('fa-seach');$('#m-search-icon').addClass('fa-times-circle');$('#btnLangMobile').hide();$('#logo').removeClass();$('#m-q').focus();window.history.pushState({page:1},\"\",\"\");}}function sendToAndroid(toast){if(typeof Android!==\"undefined\"&&Android!==null){Android.showToast(toast);}}var loadingSmilars=0;function loadMore(start,orderby){if(orderby==undefined)orderby='';if(loadingSmilars==1)return;loadingSmilars=1;$(\".loadmore:last\").html('<center><i class=\"fa fa-sync-alt fa-spin-custom\"></i></center>');$.get('/home/index?s='+start+'&ajax=1&a=1&p='+orderby,function(data){$(\".loadmore:last\").html(data);$(\".img-zoom\").hoverIntent({over:makeLarge,out:makeSmall});$('[data-toggle=\"popover\"]').popover();activateLastLoaded();});loadingSmilars=0;}function activateLastLoaded(){$(\".img-zoom\").hoverIntent({over:makeLarge,out:makeSmall});initTooltips();aiSimilar();$('[data-toggle=\"popover\"]').popover();}function mobileMenu(){$(\".mobile-nav-button .mobile-nav-button__line:nth-of-type(1)\").toggleClass(\"mobile-nav-button__line--1\");$(\".mobile-nav-button .mobile-nav-button__line:nth-of-type(2)\").toggleClass(\"mobile-nav-button__line--2\");$(\".mobile-nav-button .mobile-nav-button__line:nth-of-type(3)\").toggleClass(\"mobile-nav-button__line--3\");$('.mobile-menu').toggleClass('mobile-menu--open');window.history.pushState({page:1},\"\",\"\");}$(document).ready(function(){$(\"#lightSlider, #lightSliderbottom\").lightSlider({autoWidth:true,slideMove:3,slideMargin:10,addClass:'',mode:\"slide\",useCSS:true,cssEasing:'ease',easing:'linear',speed:600,auto:true,loop:true,slideEndAnimation:true,pause:1500,pauseOnHover:true,keyPress:false,controls:false,prevHtml:'',nextHtml:'',rtl:false,adaptiveHeight:false,vertical:false,verticalHeight:500,vThumbWidth:100,thumbItem:10,pager:false,gallery:false,galleryMargin:15,thumbMargin:5,currentPagerPosition:'middle',enableTouch:true,enableDrag:true,freeMove:true,swipeThreshold:40,responsive:[],onBeforeStart:function(el){},onSliderLoad:function(el){},onBeforeSlide:function(el){},onAfterSlide:function(el){},onBeforeNextSlide:function(el){},onBeforePrevSlide:function(el){}});});$(document).ready(function(){if(window.innerWidth<=1174){$('#user-menu-header').html($('#user-menu-right').html());$('#user-menu-inner').addClass('pull-right');$('#user-menu-right').html('');}var animations=['pulse','rubberBand','flip','tada','','jello','bounceInLeft','flip','flip','lightSpeedIn','','','','','','','','','','','','','','','','','',''];var randomAnimation=animations[Math.floor(Math.random()*animations.length)];$('#logo').addClass('animated '+randomAnimation);$.fn.horizontalTabs=function(){var $elem=$(this),widthOfReducedList=$elem.find('.nav-tabs-horizontal').width(),widthOfList=0,currentPos=0,adjustScroll=function(){widthOfList=0;$elem.find('.nav-tabs-horizontal li').each(function(index,item){widthOfList+=$(item).width();});widthAvailale=$elem.width();if(widthOfList>widthAvailale){$elem.find('.scroller').show();updateArrowStyle(currentPos);widthOfReducedList=$elem.find('.nav-tabs-horizontal').width();}else{$elem.find('.scroller').hide();}},scrollLeft=function(){$elem.find('.nav-tabs-horizontal').animate({scrollLeft:currentPos-widthOfReducedList},500);if(currentPos-widthOfReducedList>0){currentPos-=widthOfReducedList;}else{currentPos=0;}},scrollRight=function(){$elem.find('.nav-tabs-horizontal').animate({scrollLeft:currentPos+widthOfReducedList},500);if((currentPos+widthOfReducedList)<(widthOfList-widthOfReducedList)){currentPos+=widthOfReducedList;}else{currentPos=(widthOfList-widthOfReducedList);}},manualScroll=function(){currentPos=$elem.find('.nav-tabs-horizontal').scrollLeft();updateArrowStyle(currentPos);},updateArrowStyle=function(position){if(position>=(widthOfList-widthOfReducedList)){$elem.find('.arrow-right').addClass('disabled');}else{$elem.find('.arrow-right').removeClass('disabled');};if(position<=0){$elem.find('.arrow-left').addClass('disabled');}else{$elem.find('.arrow-left').removeClass('disabled');};};$(window).resize(function(){adjustScroll();});$elem.find('.arrow-left').on('click.horizontalTabs',function(){scrollLeft();});$elem.find('.arrow-right').on('click.horizontalTabs',function(){scrollRight();});$elem.find('.nav-tabs-horizontal').scroll(function(){manualScroll();});adjustScroll();return this;}\n$(\"#js_image_selection\").horizontalTabs();$(\".yt-video-link\").click(function(e){$('.yt-video-container').hide();$('.yt-video').attr('src','https://www.youtube.com/embed/'+$(this).attr('href').substring(1)+'?autoplay=1');$('.yt-video-container').show();$.post(\"/Category/videoHit\",{id:$(this).attr('data-id')}).done(function(data){});});$('.mobile-nav-button, .mobile-link').on('click',function(e){e.preventDefault();$(\".mobile-nav-button .mobile-nav-button__line:nth-of-type(1)\").toggleClass(\"mobile-nav-button__line--1\");$(\".mobile-nav-button .mobile-nav-button__line:nth-of-type(2)\").toggleClass(\"mobile-nav-button__line--2\");$(\".mobile-nav-button .mobile-nav-button__line:nth-of-type(3)\").toggleClass(\"mobile-nav-button__line--3\");if($(this).hasClass('mobile-link')){setTimeout(\"location.replace('\"+$(this).attr('href')+\"')\",650);setTimeout(\"$('.mobile-menu').toggleClass('mobile-menu--open')\",350);}else{$('.mobile-menu').toggleClass('mobile-menu--open');window.history.pushState({page:1},\"\",\"\");}});if(\"ontouchstart\"in document.documentElement){$(\".dialog\").on('click',function(e){if($('.mobile-menu').hasClass('mobile-menu--open')){mobileMenu();e.preventDefault();}});}$('#q').autocomplete({serviceUrl:'/search/complete',triggerSelectOnValidInput:false,preventBadQueries:false,onSelect:function(suggestion){$(\"#search-form\").submit();}});$('#m-q').autocomplete({serviceUrl:'/search/complete',triggerSelectOnValidInput:false,onSelect:function(suggestion){$('#q').val($('#m-q').val());$(\"#search-form\").submit();}});$(\"#m-search-form\").submit(function(event){$('#q').val($('#m-q').val());$(\"#search-form\").submit();event.preventDefault();});$(\"#m-q\").focus(function(){window.scrollTo(0,0);});activateLastLoaded();window.onbeforeunload=function(){$({property:0}).animate({property:105},{duration:3000,step:function(){var _percent=Math.round(this.property);$('#progress').css('width',_percent+\"%\");if(_percent==105){$(\"#progress\").addClass(\"done\");}}});};});</script>\n<script crossorigin=\"anonymous\" integrity=\"sha384-feJI7QwhOS+hwpX2zkaeJQjeiwlhOP+SdQDqhgvvo1DsjtiSQByFdThsxO669S2D\" src=\"https://stackpath.bootstrapcdn.com/bootstrap/4.0.0/js/bootstrap.bundle.min.js\"></script>\n</body>\n</html>"
     },
     "execution_count": 12,
     "metadata": {},
     "output_type": "execute_result"
    }
   ],
   "source": [
    "box"
   ],
   "metadata": {
    "collapsed": false,
    "pycharm": {
     "name": "#%%\n"
    }
   }
  },
  {
   "cell_type": "code",
   "execution_count": 17,
   "outputs": [
    {
     "name": "stdout",
     "output_type": "stream",
     "text": [
      "www.pdfdrive.com/\n",
      "www.pdfdrive.com/auth/login?redirURL=%2F\n",
      "www.pdfdrive.comhttps://www.pdfdrive.com/home/setLocal?url=\n",
      "www.pdfdrive.comhttps://es.pdfdrive.com/home/setLocal?url=\n",
      "www.pdfdrive.comhttps://ru.pdfdrive.com/home/setLocal?url=\n",
      "www.pdfdrive.comhttps://www.pdfdrive.com/home/setLocal?url=\n",
      "www.pdfdrive.comhttps://es.pdfdrive.com/home/setLocal?url=\n",
      "www.pdfdrive.comhttps://ru.pdfdrive.com/home/setLocal?url=\n",
      "www.pdfdrive.comjavascript:void(0);\n",
      "www.pdfdrive.com/\n",
      "www.pdfdrive.com/category/112\n",
      "www.pdfdrive.com/category/113\n",
      "www.pdfdrive.com#categories\n",
      "www.pdfdrive.com/home/contact\n",
      "www.pdfdrive.com/auth/signup\n",
      "www.pdfdrive.com/category/127\n",
      "www.pdfdrive.com/living-in-the-light-a-guide-to-personal-transformation-e10172273.html\n",
      "www.pdfdrive.com/living-in-the-light-a-guide-to-personal-transformation-e10172273.html\n",
      "www.pdfdrive.com/give-and-take-why-helping-others-drives-our-success-e58864799.html\n",
      "www.pdfdrive.com/give-and-take-why-helping-others-drives-our-success-e58864799.html\n",
      "www.pdfdrive.com/braiding-sweetgrass-indigenous-wisdom-scientific-knowledge-and-the-teachings-of-plants-e60737077.html\n",
      "www.pdfdrive.com/braiding-sweetgrass-indigenous-wisdom-scientific-knowledge-and-the-teachings-of-plants-e60737077.html\n",
      "www.pdfdrive.com/category/232\n",
      "www.pdfdrive.com/i-am-malala-the-story-of-the-girl-who-stood-up-for-education-e14796117.html\n",
      "www.pdfdrive.com/i-am-malala-the-story-of-the-girl-who-stood-up-for-education-e14796117.html\n",
      "www.pdfdrive.com/resisting-happiness-a-true-story-about-why-we-sabotage-ourselves-e39563520.html\n",
      "www.pdfdrive.com/resisting-happiness-a-true-story-about-why-we-sabotage-ourselves-e39563520.html\n",
      "www.pdfdrive.com/start-where-you-are-a-guide-to-compassionate-living-e60375000.html\n",
      "www.pdfdrive.com/start-where-you-are-a-guide-to-compassionate-living-e60375000.html\n",
      "www.pdfdrive.com/the-purpose-driven-life-what-on-earth-am-i-here-for-e185720921.html\n",
      "www.pdfdrive.com/the-purpose-driven-life-what-on-earth-am-i-here-for-e185720921.html\n",
      "www.pdfdrive.com/category/253\n",
      "www.pdfdrive.com/no-drama-discipline-the-whole-brain-way-to-calm-the-chaos-and-nurture-your-childs-developing-mind-e60737124.html\n",
      "www.pdfdrive.com/no-drama-discipline-the-whole-brain-way-to-calm-the-chaos-and-nurture-your-childs-developing-mind-e60737124.html\n",
      "www.pdfdrive.com/1-2-3-magic-3-step-discipline-for-calm-effective-and-happy-parenting-e60737129.html\n",
      "www.pdfdrive.com/1-2-3-magic-3-step-discipline-for-calm-effective-and-happy-parenting-e60737129.html\n",
      "www.pdfdrive.com/the-explosive-child-a-new-approach-for-understanding-and-parenting-easily-frustrated-chronically-i-e60737125.html\n",
      "www.pdfdrive.com/the-explosive-child-a-new-approach-for-understanding-and-parenting-easily-frustrated-chronically-i-e60737125.html\n",
      "www.pdfdrive.com/category/211\n",
      "www.pdfdrive.com/the-gifts-of-imperfection-embrace-who-you-are-e60365102.html\n",
      "www.pdfdrive.com/the-gifts-of-imperfection-embrace-who-you-are-e60365102.html\n",
      "www.pdfdrive.com/the-choice-embrace-the-possible-e61378075.html\n",
      "www.pdfdrive.com/the-choice-embrace-the-possible-e61378075.html\n",
      "www.pdfdrive.com/category/176\n",
      "www.pdfdrive.com/boundaries-when-to-say-yes-how-to-say-no-to-take-control-of-your-life-e60363043.html\n",
      "www.pdfdrive.com/boundaries-when-to-say-yes-how-to-say-no-to-take-control-of-your-life-e60363043.html\n",
      "www.pdfdrive.com/the-5-second-rule-transform-your-life-work-and-confidence-with-everyday-courage-e60374999.html\n",
      "www.pdfdrive.com/the-5-second-rule-transform-your-life-work-and-confidence-with-everyday-courage-e60374999.html\n",
      "www.pdfdrive.com/the-daily-stoic-366-meditations-on-wisdom-perseverance-and-the-art-of-living-e61378067.html\n",
      "www.pdfdrive.com/the-daily-stoic-366-meditations-on-wisdom-perseverance-and-the-art-of-living-e61378067.html\n",
      "www.pdfdrive.com#FcMa9n0WteA\n",
      "www.pdfdrive.com#PudZNM276CY\n",
      "www.pdfdrive.com#wTblbYqQQag\n",
      "www.pdfdrive.com#eOUWgtbIhgE\n",
      "www.pdfdrive.com#j01Hg4QJ6NE\n",
      "www.pdfdrive.com#1aLeYLRrW3U\n",
      "www.pdfdrive.com#mRqR4mOC4gc\n",
      "www.pdfdrive.com#kak8PEl_v1I\n",
      "www.pdfdrive.com#sp6mRYzjqCE\n",
      "www.pdfdrive.com#n6sTlukHLiA\n",
      "www.pdfdrive.com#7bB_fVDlvhc\n",
      "www.pdfdrive.com#UF8uR6Z6KLc\n",
      "www.pdfdrive.com/request-a-book\n",
      "www.pdfdrive.com/category/113\n",
      "www.pdfdrive.com/category/112\n",
      "www.pdfdrive.com/category/6\n",
      "www.pdfdrive.com/category/1\n",
      "www.pdfdrive.com/category/16\n",
      "www.pdfdrive.com/category/3\n",
      "www.pdfdrive.com/category/17\n",
      "www.pdfdrive.com/category/18\n",
      "www.pdfdrive.com/category/11\n",
      "www.pdfdrive.com/category/8\n",
      "www.pdfdrive.com/category/19\n",
      "www.pdfdrive.com/category/4\n",
      "www.pdfdrive.com/category/15\n",
      "www.pdfdrive.com/category/10\n",
      "www.pdfdrive.com/category/14\n",
      "www.pdfdrive.com/category/5\n",
      "www.pdfdrive.comjavascript:askYourself();\n",
      "www.pdfdrive.com/\n",
      "www.pdfdrive.com/home/about\n",
      "www.pdfdrive.com/app\n",
      "www.pdfdrive.com/home/terms\n",
      "www.pdfdrive.comhttps://twitter.com/pdfdrive\n",
      "www.pdfdrive.comhttps://www.facebook.com/pdfdrive\n",
      "www.pdfdrive.com/home/contact\n",
      "www.pdfdrive.com/home/contact\n",
      "www.pdfdrive.com/home/dmca\n"
     ]
    }
   ],
   "source": [
    "box1=[]\n",
    "for i in box.find_all(\"a\",href=True):\n",
    "    box1.append(f\"www.pdfdrive.com\"+i[\"href\"])\n",
    "for j in box1:\n",
    "    print(j)"
   ],
   "metadata": {
    "collapsed": false,
    "pycharm": {
     "name": "#%%\n"
    }
   }
  },
  {
   "cell_type": "code",
   "execution_count": 18,
   "outputs": [
    {
     "data": {
      "text/plain": "89"
     },
     "execution_count": 18,
     "metadata": {},
     "output_type": "execute_result"
    }
   ],
   "source": [
    "len(box1)"
   ],
   "metadata": {
    "collapsed": false,
    "pycharm": {
     "name": "#%%\n"
    }
   }
  },
  {
   "cell_type": "code",
   "execution_count": 22,
   "outputs": [
    {
     "data": {
      "text/plain": "-1"
     },
     "execution_count": 22,
     "metadata": {},
     "output_type": "execute_result"
    }
   ],
   "source": [
    "box1[0].find(\"html\")"
   ],
   "metadata": {
    "collapsed": false,
    "pycharm": {
     "name": "#%%\n"
    }
   }
  },
  {
   "cell_type": "code",
   "execution_count": 23,
   "outputs": [
    {
     "data": {
      "text/plain": "'www.pdfdrive.comhttps://www.pdfdrive.com/home/setLocal?url='"
     },
     "execution_count": 23,
     "metadata": {},
     "output_type": "execute_result"
    }
   ],
   "source": [
    "box1[5]"
   ],
   "metadata": {
    "collapsed": false,
    "pycharm": {
     "name": "#%%\n"
    }
   }
  },
  {
   "cell_type": "code",
   "execution_count": 27,
   "outputs": [
    {
     "name": "stdout",
     "output_type": "stream",
     "text": [
      "www.pdfdrive.com/\n",
      "www.pdfdrive.com/auth/login?redirURL=%2F\n",
      "www.pdfdrive.comhttps://www.pdfdrive.com/home/setLocal?url=\n",
      "www.pdfdrive.comhttps://es.pdfdrive.com/home/setLocal?url=\n",
      "www.pdfdrive.comhttps://ru.pdfdrive.com/home/setLocal?url=\n",
      "www.pdfdrive.comhttps://www.pdfdrive.com/home/setLocal?url=\n",
      "www.pdfdrive.comhttps://es.pdfdrive.com/home/setLocal?url=\n",
      "www.pdfdrive.comhttps://ru.pdfdrive.com/home/setLocal?url=\n",
      "www.pdfdrive.comjavascript:void(0);\n",
      "www.pdfdrive.com/\n"
     ]
    }
   ],
   "source": [
    "b=len(box1)\n",
    "for i in range(10):\n",
    "    print(box1[i].)"
   ],
   "metadata": {
    "collapsed": false,
    "pycharm": {
     "name": "#%%\n"
    }
   }
  },
  {
   "cell_type": "code",
   "execution_count": 26,
   "outputs": [
    {
     "data": {
      "text/plain": "'www.pdfdrive.com/auth/login?redirURL=%2F'"
     },
     "execution_count": 26,
     "metadata": {},
     "output_type": "execute_result"
    }
   ],
   "source": [
    "box1[1]"
   ],
   "metadata": {
    "collapsed": false,
    "pycharm": {
     "name": "#%%\n"
    }
   }
  },
  {
   "cell_type": "code",
   "execution_count": 44,
   "outputs": [],
   "source": [
    "box2=[]\n",
    "for i in box1:\n",
    "    if i.endswith(\".html\"):\n",
    "        box2.append(i)"
   ],
   "metadata": {
    "collapsed": false,
    "pycharm": {
     "name": "#%%\n"
    }
   }
  },
  {
   "cell_type": "code",
   "execution_count": 45,
   "outputs": [
    {
     "name": "stdout",
     "output_type": "stream",
     "text": [
      "['www.pdfdrive.com/living-in-the-light-a-guide-to-personal-transformation-e10172273.html', 'www.pdfdrive.com/living-in-the-light-a-guide-to-personal-transformation-e10172273.html', 'www.pdfdrive.com/give-and-take-why-helping-others-drives-our-success-e58864799.html', 'www.pdfdrive.com/give-and-take-why-helping-others-drives-our-success-e58864799.html', 'www.pdfdrive.com/braiding-sweetgrass-indigenous-wisdom-scientific-knowledge-and-the-teachings-of-plants-e60737077.html', 'www.pdfdrive.com/braiding-sweetgrass-indigenous-wisdom-scientific-knowledge-and-the-teachings-of-plants-e60737077.html', 'www.pdfdrive.com/i-am-malala-the-story-of-the-girl-who-stood-up-for-education-e14796117.html', 'www.pdfdrive.com/i-am-malala-the-story-of-the-girl-who-stood-up-for-education-e14796117.html', 'www.pdfdrive.com/resisting-happiness-a-true-story-about-why-we-sabotage-ourselves-e39563520.html', 'www.pdfdrive.com/resisting-happiness-a-true-story-about-why-we-sabotage-ourselves-e39563520.html', 'www.pdfdrive.com/start-where-you-are-a-guide-to-compassionate-living-e60375000.html', 'www.pdfdrive.com/start-where-you-are-a-guide-to-compassionate-living-e60375000.html', 'www.pdfdrive.com/the-purpose-driven-life-what-on-earth-am-i-here-for-e185720921.html', 'www.pdfdrive.com/the-purpose-driven-life-what-on-earth-am-i-here-for-e185720921.html', 'www.pdfdrive.com/no-drama-discipline-the-whole-brain-way-to-calm-the-chaos-and-nurture-your-childs-developing-mind-e60737124.html', 'www.pdfdrive.com/no-drama-discipline-the-whole-brain-way-to-calm-the-chaos-and-nurture-your-childs-developing-mind-e60737124.html', 'www.pdfdrive.com/1-2-3-magic-3-step-discipline-for-calm-effective-and-happy-parenting-e60737129.html', 'www.pdfdrive.com/1-2-3-magic-3-step-discipline-for-calm-effective-and-happy-parenting-e60737129.html', 'www.pdfdrive.com/the-explosive-child-a-new-approach-for-understanding-and-parenting-easily-frustrated-chronically-i-e60737125.html', 'www.pdfdrive.com/the-explosive-child-a-new-approach-for-understanding-and-parenting-easily-frustrated-chronically-i-e60737125.html', 'www.pdfdrive.com/the-gifts-of-imperfection-embrace-who-you-are-e60365102.html', 'www.pdfdrive.com/the-gifts-of-imperfection-embrace-who-you-are-e60365102.html', 'www.pdfdrive.com/the-choice-embrace-the-possible-e61378075.html', 'www.pdfdrive.com/the-choice-embrace-the-possible-e61378075.html', 'www.pdfdrive.com/boundaries-when-to-say-yes-how-to-say-no-to-take-control-of-your-life-e60363043.html', 'www.pdfdrive.com/boundaries-when-to-say-yes-how-to-say-no-to-take-control-of-your-life-e60363043.html', 'www.pdfdrive.com/the-5-second-rule-transform-your-life-work-and-confidence-with-everyday-courage-e60374999.html', 'www.pdfdrive.com/the-5-second-rule-transform-your-life-work-and-confidence-with-everyday-courage-e60374999.html', 'www.pdfdrive.com/the-daily-stoic-366-meditations-on-wisdom-perseverance-and-the-art-of-living-e61378067.html', 'www.pdfdrive.com/the-daily-stoic-366-meditations-on-wisdom-perseverance-and-the-art-of-living-e61378067.html']\n"
     ]
    }
   ],
   "source": [
    "print(box2)"
   ],
   "metadata": {
    "collapsed": false,
    "pycharm": {
     "name": "#%%\n"
    }
   }
  },
  {
   "cell_type": "code",
   "execution_count": null,
   "outputs": [],
   "source": [
    "\\"
   ],
   "metadata": {
    "collapsed": false,
    "pycharm": {
     "name": "#%%\n"
    }
   }
  }
 ],
 "metadata": {
  "kernelspec": {
   "display_name": "Python 3",
   "language": "python",
   "name": "python3"
  },
  "language_info": {
   "codemirror_mode": {
    "name": "ipython",
    "version": 2
   },
   "file_extension": ".py",
   "mimetype": "text/x-python",
   "name": "python",
   "nbconvert_exporter": "python",
   "pygments_lexer": "ipython2",
   "version": "2.7.6"
  }
 },
 "nbformat": 4,
 "nbformat_minor": 0
}