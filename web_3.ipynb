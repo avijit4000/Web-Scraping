{
 "cells": [
  {
   "cell_type": "code",
   "execution_count": 3,
   "metadata": {
    "collapsed": true,
    "pycharm": {
     "name": "#%%\n"
    }
   },
   "outputs": [],
   "source": [
    "from bs4 import BeautifulSoup as bs\n",
    "import requests as re"
   ]
  },
  {
   "cell_type": "code",
   "execution_count": 4,
   "outputs": [],
   "source": [
    "website='https://subslikescript.com/'"
   ],
   "metadata": {
    "collapsed": false,
    "pycharm": {
     "name": "#%%\n"
    }
   }
  },
  {
   "cell_type": "code",
   "execution_count": 13,
   "outputs": [],
   "source": [
    "page_number=3"
   ],
   "metadata": {
    "collapsed": false,
    "pycharm": {
     "name": "#%%\n"
    }
   }
  },
  {
   "cell_type": "code",
   "execution_count": 14,
   "outputs": [],
   "source": [
    "page_link=f'{website}movies?page={page_number}'"
   ],
   "metadata": {
    "collapsed": false,
    "pycharm": {
     "name": "#%%\n"
    }
   }
  },
  {
   "cell_type": "code",
   "execution_count": 15,
   "outputs": [
    {
     "name": "stdout",
     "output_type": "stream",
     "text": [
      "https://subslikescript.com/movies?page=3\n"
     ]
    }
   ],
   "source": [
    "print(page_link)"
   ],
   "metadata": {
    "collapsed": false,
    "pycharm": {
     "name": "#%%\n"
    }
   }
  },
  {
   "cell_type": "code",
   "execution_count": 16,
   "outputs": [],
   "source": [
    "result=re.get(page_link)"
   ],
   "metadata": {
    "collapsed": false,
    "pycharm": {
     "name": "#%%\n"
    }
   }
  },
  {
   "cell_type": "code",
   "execution_count": 17,
   "outputs": [],
   "source": [
    "content=result.text"
   ],
   "metadata": {
    "collapsed": false,
    "pycharm": {
     "name": "#%%\n"
    }
   }
  },
  {
   "cell_type": "code",
   "execution_count": 19,
   "outputs": [],
   "source": [
    "soup=bs(content,'lxml')"
   ],
   "metadata": {
    "collapsed": false,
    "pycharm": {
     "name": "#%%\n"
    }
   }
  },
  {
   "cell_type": "code",
   "execution_count": 20,
   "outputs": [],
   "source": [
    "box = soup.find('article', class_='main-article')"
   ],
   "metadata": {
    "collapsed": false,
    "pycharm": {
     "name": "#%%\n"
    }
   }
  },
  {
   "cell_type": "code",
   "execution_count": 21,
   "outputs": [
    {
     "name": "stdout",
     "output_type": "stream",
     "text": [
      "<article class=\"main-article\">\n",
      "<h1>All movies' scripts</h1>\n",
      "<ul class=\"scripts-list\">\n",
      "<a href=\"movie/Key_to_Love-14873756\" title=\"Read transcript of Movie 'Key to Love'\"><li>Key to Love (2023)</li></a>\n",
      "<a href=\"movie/Joheun_saram_isseumyeon_sogae_shikeojwo-326992\" title=\"Read transcript of Movie 'Joheun saram isseumyeon sogae shikeojwo'\"><li>Joheun saram isseumyeon sogae shikeojwo (2002)</li></a>\n",
      "<a href=\"movie/Private_Parts-69124\" title=\"Read transcript of Movie 'Private Parts'\"><li>Private Parts (1972)</li></a>\n",
      "<a href=\"movie/Interdit_aux_chiens_et_aux_Italiens-12826598\" title=\"Read transcript of Movie 'Interdit aux chiens et aux Italiens'\"><li>Interdit aux chiens et aux Italiens (2022)</li></a>\n",
      "<script async=\"\" src=\"https://pagead2.googlesyndication.com/pagead/js/adsbygoogle.js\"></script>\n",
      "<!-- subslikescript 336*280 bottom -->\n",
      "<ins class=\"adsbygoogle\" data-ad-client=\"ca-pub-6250492176235895\" data-ad-format=\"auto\" data-ad-slot=\"1208640000\" data-full-width-responsive=\"true\" style=\"display:block\"></ins>\n",
      "<script>\n",
      "\t     (adsbygoogle = window.adsbygoogle || []).push({});\n",
      "\t</script>\n",
      "<a href=\"movie/Ranma_-2072214\" title=\"Read transcript of Movie 'Ranma ½'\"><li>Ranma ½ (2011)</li></a>\n",
      "<a href=\"movie/Melting_Souls-8251150\" title=\"Read transcript of Movie 'Melting Souls'\"><li>Melting Souls (2018)</li></a>\n",
      "<a href=\"movie/My_Man_Godfrey-50738\" title=\"Read transcript of Movie 'My Man Godfrey'\"><li>My Man Godfrey (1957)</li></a>\n",
      "<a href=\"movie/The_Unseen-13304086\" title=\"Read transcript of Movie 'The Unseen'\"><li>The Unseen (2023)</li></a>\n",
      "<a href=\"movie/There_Was_a_Crooked_Man-54379\" title=\"Read transcript of Movie 'There Was a Crooked Man'\"><li>There Was a Crooked Man (1960)</li></a>\n",
      "<a href=\"movie/The_Strangler-58622\" title=\"Read transcript of Movie 'The Strangler'\"><li>The Strangler (1964)</li></a>\n",
      "<a href=\"movie/The_Return-433442\" title=\"Read transcript of Movie 'The Return'\"><li>The Return (2005)</li></a>\n",
      "<a href=\"movie/Jagged_Edge-89360\" title=\"Read transcript of Movie 'Jagged Edge'\"><li>Jagged Edge (1985)</li></a>\n",
      "<a href=\"movie/The_Big_Fat_Anniversary_Quiz-4392820\" title=\"Read transcript of Movie 'The Big Fat Anniversary Quiz'\"><li>The Big Fat Anniversary Quiz (2015)</li></a>\n",
      "<a href=\"movie/Scaffolding-6253214\" title=\"Read transcript of Movie 'Scaffolding'\"><li>Scaffolding (2017)</li></a>\n",
      "<a href=\"movie/Makeup-13460584\" title=\"Read transcript of Movie 'Makeup'\"><li>Makeup (2021)</li></a>\n",
      "<a href=\"movie/Lean_Sheat_Nosaat-2123223\" title=\"Read transcript of Movie 'Lean Sheat Nosaat'\"><li>Lean Sheat Nosaat (2012)</li></a>\n",
      "<a href=\"movie/Phases_of_the_Moon-21652624\" title=\"Read transcript of Movie 'Phases of the Moon'\"><li>Phases of the Moon (2022)</li></a>\n",
      "<a href=\"movie/Detective_Song_Ci-24825344\" title=\"Read transcript of Movie 'Detective Song Ci'\"><li>Detective Song Ci (2022)</li></a>\n",
      "<a href=\"movie/90210_Shark_Attack-3544654\" title=\"Read transcript of Movie '90210 Shark Attack'\"><li>90210 Shark Attack (2014)</li></a>\n",
      "<a href=\"movie/Hosto-27912053\" title=\"Read transcript of Movie 'Hosto'\"><li>Hosto (2023)</li></a>\n",
      "<a href=\"movie/Genocidal_Organ-3615160\" title=\"Read transcript of Movie 'Genocidal Organ'\"><li>Genocidal Organ (2017)</li></a>\n",
      "<script async=\"\" src=\"https://pagead2.googlesyndication.com/pagead/js/adsbygoogle.js\"></script>\n",
      "<!-- subslikescript 336*280 bottom -->\n",
      "<ins class=\"adsbygoogle\" data-ad-client=\"ca-pub-6250492176235895\" data-ad-format=\"auto\" data-ad-slot=\"1208640000\" data-full-width-responsive=\"true\" style=\"display:block\"></ins>\n",
      "<script>\n",
      "\t     (adsbygoogle = window.adsbygoogle || []).push({});\n",
      "\t</script>\n",
      "<a href=\"movie/Malibu_Shark_Attack-1478325\" title=\"Read transcript of Movie 'Malibu Shark Attack'\"><li>Malibu Shark Attack (2009)</li></a>\n",
      "<a href=\"movie/Silent_Parade-21608894\" title=\"Read transcript of Movie 'Silent Parade'\"><li>Silent Parade (2022)</li></a>\n",
      "<a href=\"movie/Caf_Nagler-5143016\" title=\"Read transcript of Movie 'Café Nagler'\"><li>Café Nagler (2016)</li></a>\n",
      "<a href=\"movie/The_Prime_Ministers_Soldiers_and_Peacemakers-5457366\" title=\"Read transcript of Movie 'The Prime Ministers: Soldiers and Peacemakers'\"><li>The Prime Ministers: Soldiers and Peacemakers (2015)</li></a>\n",
      "<a href=\"movie/The_Prime_Ministers_The_Pioneers-3228928\" title=\"Read transcript of Movie 'The Prime Ministers: The Pioneers'\"><li>The Prime Ministers: The Pioneers (2013)</li></a>\n",
      "<a href=\"movie/The_Longest_Journey-3108890\" title=\"Read transcript of Movie 'The Longest Journey'\"><li>The Longest Journey (2013)</li></a>\n",
      "<a href=\"movie/Our_Boys-5461642\" title=\"Read transcript of Movie 'Our Boys'\"><li>Our Boys (2015)</li></a>\n",
      "<a href=\"movie/Haven-3165442\" title=\"Read transcript of Movie 'Haven'\"><li>Haven (2013)</li></a>\n",
      "<a href=\"movie/By_Summers_End-2075088\" title=\"Read transcript of Movie 'By Summer's End'\"><li>By Summer's End (2011)</li></a>\n",
      "</ul>\n",
      "</article>\n"
     ]
    }
   ],
   "source": [
    "print(box)"
   ],
   "metadata": {
    "collapsed": false,
    "pycharm": {
     "name": "#%%\n"
    }
   }
  },
  {
   "cell_type": "code",
   "execution_count": 22,
   "outputs": [],
   "source": [
    "tit_1=box.find_all('li')"
   ],
   "metadata": {
    "collapsed": false,
    "pycharm": {
     "name": "#%%\n"
    }
   }
  },
  {
   "cell_type": "code",
   "execution_count": 23,
   "outputs": [
    {
     "data": {
      "text/plain": "30"
     },
     "execution_count": 23,
     "metadata": {},
     "output_type": "execute_result"
    }
   ],
   "source": [
    "len(tit_1)"
   ],
   "metadata": {
    "collapsed": false,
    "pycharm": {
     "name": "#%%\n"
    }
   }
  },
  {
   "cell_type": "code",
   "execution_count": 24,
   "outputs": [
    {
     "name": "stdout",
     "output_type": "stream",
     "text": [
      "Key to Love (2023)\n",
      "Joheun saram isseumyeon sogae shikeojwo (2002)\n",
      "Private Parts (1972)\n",
      "Interdit aux chiens et aux Italiens (2022)\n",
      "Ranma ½ (2011)\n",
      "Melting Souls (2018)\n",
      "My Man Godfrey (1957)\n",
      "The Unseen (2023)\n",
      "There Was a Crooked Man (1960)\n",
      "The Strangler (1964)\n",
      "The Return (2005)\n",
      "Jagged Edge (1985)\n",
      "The Big Fat Anniversary Quiz (2015)\n",
      "Scaffolding (2017)\n",
      "Makeup (2021)\n",
      "Lean Sheat Nosaat (2012)\n",
      "Phases of the Moon (2022)\n",
      "Detective Song Ci (2022)\n",
      "90210 Shark Attack (2014)\n",
      "Hosto (2023)\n",
      "Genocidal Organ (2017)\n",
      "Malibu Shark Attack (2009)\n",
      "Silent Parade (2022)\n",
      "Café Nagler (2016)\n",
      "The Prime Ministers: Soldiers and Peacemakers (2015)\n",
      "The Prime Ministers: The Pioneers (2013)\n",
      "The Longest Journey (2013)\n",
      "Our Boys (2015)\n",
      "Haven (2013)\n",
      "By Summer's End (2011)\n"
     ]
    }
   ],
   "source": [
    "for i in tit_1:\n",
    "    print(i.text)"
   ],
   "metadata": {
    "collapsed": false,
    "pycharm": {
     "name": "#%%\n"
    }
   }
  },
  {
   "cell_type": "code",
   "execution_count": 25,
   "outputs": [],
   "source": [
    "with open('nameofall.txt', 'w') as file:\n",
    "        file.write('myname')"
   ],
   "metadata": {
    "collapsed": false,
    "pycharm": {
     "name": "#%%\n"
    }
   }
  },
  {
   "cell_type": "code",
   "execution_count": null,
   "outputs": [],
   "source": [],
   "metadata": {
    "collapsed": false,
    "pycharm": {
     "name": "#%%\n"
    }
   }
  }
 ],
 "metadata": {
  "kernelspec": {
   "display_name": "Python 3",
   "language": "python",
   "name": "python3"
  },
  "language_info": {
   "codemirror_mode": {
    "name": "ipython",
    "version": 2
   },
   "file_extension": ".py",
   "mimetype": "text/x-python",
   "name": "python",
   "nbconvert_exporter": "python",
   "pygments_lexer": "ipython2",
   "version": "2.7.6"
  }
 },
 "nbformat": 4,
 "nbformat_minor": 0
}