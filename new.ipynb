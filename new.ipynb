{
 "cells": [
  {
   "cell_type": "code",
   "execution_count": 3,
   "metadata": {
    "collapsed": true,
    "pycharm": {
     "name": "#%%\n"
    }
   },
   "outputs": [
    {
     "name": "stdout",
     "output_type": "stream",
     "text": [
      "Requirement already satisfied: nsepy in c:\\users\\aviji\\appdata\\local\\programs\\python\\python311\\lib\\site-packages (0.8)\n",
      "Requirement already satisfied: click in c:\\users\\aviji\\appdata\\local\\programs\\python\\python311\\lib\\site-packages (from nsepy) (8.1.3)\n",
      "Requirement already satisfied: numpy in c:\\users\\aviji\\appdata\\local\\programs\\python\\python311\\lib\\site-packages (from nsepy) (1.24.3)\n",
      "Requirement already satisfied: lxml in c:\\users\\aviji\\appdata\\local\\programs\\python\\python311\\lib\\site-packages (from nsepy) (4.9.2)\n",
      "Requirement already satisfied: six in c:\\users\\aviji\\appdata\\local\\programs\\python\\python311\\lib\\site-packages (from nsepy) (1.16.0)\n",
      "Requirement already satisfied: requests in c:\\users\\aviji\\appdata\\local\\programs\\python\\python311\\lib\\site-packages (from nsepy) (2.30.0)\n",
      "Requirement already satisfied: pandas in c:\\users\\aviji\\appdata\\local\\programs\\python\\python311\\lib\\site-packages (from nsepy) (2.0.1)\n",
      "Requirement already satisfied: beautifulsoup4 in c:\\users\\aviji\\appdata\\local\\programs\\python\\python311\\lib\\site-packages (from nsepy) (4.12.2)\n",
      "Requirement already satisfied: soupsieve>1.2 in c:\\users\\aviji\\appdata\\local\\programs\\python\\python311\\lib\\site-packages (from beautifulsoup4->nsepy) (2.4.1)\n",
      "Requirement already satisfied: colorama in c:\\users\\aviji\\appdata\\local\\programs\\python\\python311\\lib\\site-packages (from click->nsepy) (0.4.6)\n",
      "Requirement already satisfied: pytz>=2020.1 in c:\\users\\aviji\\appdata\\local\\programs\\python\\python311\\lib\\site-packages (from pandas->nsepy) (2023.3)\n",
      "Requirement already satisfied: tzdata>=2022.1 in c:\\users\\aviji\\appdata\\local\\programs\\python\\python311\\lib\\site-packages (from pandas->nsepy) (2023.3)\n",
      "Requirement already satisfied: python-dateutil>=2.8.2 in c:\\users\\aviji\\appdata\\local\\programs\\python\\python311\\lib\\site-packages (from pandas->nsepy) (2.8.2)\n",
      "Requirement already satisfied: urllib3<3,>=1.21.1 in c:\\users\\aviji\\appdata\\local\\programs\\python\\python311\\lib\\site-packages (from requests->nsepy) (2.0.2)\n",
      "Requirement already satisfied: idna<4,>=2.5 in c:\\users\\aviji\\appdata\\local\\programs\\python\\python311\\lib\\site-packages (from requests->nsepy) (3.4)\n",
      "Requirement already satisfied: certifi>=2017.4.17 in c:\\users\\aviji\\appdata\\local\\programs\\python\\python311\\lib\\site-packages (from requests->nsepy) (2023.5.7)\n",
      "Requirement already satisfied: charset-normalizer<4,>=2 in c:\\users\\aviji\\appdata\\local\\programs\\python\\python311\\lib\\site-packages (from requests->nsepy) (3.1.0)\n"
     ]
    },
    {
     "name": "stderr",
     "output_type": "stream",
     "text": [
      "WARNING: You are using pip version 21.3.1; however, version 23.2.1 is available.\n",
      "You should consider upgrading via the 'C:\\Users\\aviji\\AppData\\Local\\Programs\\pythonProject8\\Scripts\\python.exe -m pip install --upgrade pip' command.\n"
     ]
    }
   ],
   "source": [
    "!pip install nsepy"
   ]
  },
  {
   "cell_type": "code",
   "execution_count": 6,
   "outputs": [
    {
     "ename": "ModuleNotFoundError",
     "evalue": "No module named 'nsepy'",
     "output_type": "error",
     "traceback": [
      "\u001B[1;31m---------------------------------------------------------------------------\u001B[0m",
      "\u001B[1;31mModuleNotFoundError\u001B[0m                       Traceback (most recent call last)",
      "Cell \u001B[1;32mIn[6], line 2\u001B[0m\n\u001B[0;32m      1\u001B[0m \u001B[38;5;28;01mimport\u001B[39;00m \u001B[38;5;21;01mpandas\u001B[39;00m \u001B[38;5;28;01mas\u001B[39;00m \u001B[38;5;21;01mpd\u001B[39;00m\n\u001B[1;32m----> 2\u001B[0m \u001B[38;5;28;01mfrom\u001B[39;00m \u001B[38;5;21;01mnsepy\u001B[39;00m\u001B[38;5;21;01m.\u001B[39;00m\u001B[38;5;21;01mhistory\u001B[39;00m \u001B[38;5;28;01mimport\u001B[39;00m get_price_list\n\u001B[0;32m      3\u001B[0m \u001B[38;5;28;01mfrom\u001B[39;00m \u001B[38;5;21;01mdatatime\u001B[39;00m \u001B[38;5;28;01mimport\u001B[39;00m date\n\u001B[0;32m      4\u001B[0m bhavcopy\u001B[38;5;241m=\u001B[39mget_price_list(dt\u001B[38;5;241m=\u001B[39mdate(\u001B[38;5;241m2023\u001B[39m,\u001B[38;5;241m8\u001B[39m,\u001B[38;5;241m29\u001B[39m))\n",
      "\u001B[1;31mModuleNotFoundError\u001B[0m: No module named 'nsepy'"
     ]
    }
   ],
   "source": [
    "import pandas as pd\n",
    "from nsepy.history import get_price_list\n",
    "from datatime import date\n",
    "bhavcopy=get_price_list(dt=date(2023,8,29))\n",
    "bhavcopy[\"AVG_PRICE\"]=bhavcopy[\"TOTTRDVAL\"]/bhavcopy[\"TOTTRDOTY\"]\n",
    "data=pd.read_csv(\"sec_bhavdata_full_30082022.csv\",skipinitialspace=True)\n",
    "data=date[date['SERIES']=='EQ']\n",
    "date['CHANGE']=data[\"CLOSE_PRICE\"]-data[\"PREV_CLOSE\"]\n",
    "desired_width=320\n",
    "pd.set_option('display.width',desired_width)\n",
    "pd.set_option('display.max_columns',None)\n",
    "pd.set_option('display.max_rows',None)\n",
    "print(data.head())"
   ],
   "metadata": {
    "collapsed": false,
    "pycharm": {
     "name": "#%%\n"
    }
   }
  },
  {
   "cell_type": "code",
   "execution_count": 4,
   "outputs": [
    {
     "name": "stdout",
     "output_type": "stream",
     "text": [
      "Defaulting to user installation because normal site-packages is not writeable\n",
      "Requirement already satisfied: pip in c:\\programdata\\anaconda3\\lib\\site-packages (22.3.1)\n",
      "Collecting pip\n",
      "  Using cached pip-23.2.1-py3-none-any.whl (2.1 MB)\n",
      "Installing collected packages: pip\n",
      "Successfully installed pip-23.2.1\n",
      "Note: you may need to restart the kernel to use updated packages.\n"
     ]
    },
    {
     "name": "stderr",
     "output_type": "stream",
     "text": [
      "  WARNING: The scripts pip.exe, pip3.10.exe and pip3.exe are installed in 'C:\\Users\\aviji\\AppData\\Roaming\\Python\\Python310\\Scripts' which is not on PATH.\n",
      "  Consider adding this directory to PATH or, if you prefer to suppress this warning, use --no-warn-script-location.\n"
     ]
    }
   ],
   "source": [
    "pip install --upgrade pip\n"
   ],
   "metadata": {
    "collapsed": false,
    "pycharm": {
     "name": "#%%\n"
    }
   }
  },
  {
   "cell_type": "code",
   "execution_count": 1,
   "outputs": [
    {
     "name": "stdout",
     "output_type": "stream",
     "text": [
      "avijit\n"
     ]
    }
   ],
   "source": [
    "print('avijit')"
   ],
   "metadata": {
    "collapsed": false,
    "pycharm": {
     "name": "#%%\n"
    }
   }
  },
  {
   "cell_type": "code",
   "execution_count": null,
   "outputs": [],
   "source": [],
   "metadata": {
    "collapsed": false,
    "pycharm": {
     "name": "#%%\n"
    }
   }
  }
 ],
 "metadata": {
  "kernelspec": {
   "display_name": "Python 3",
   "language": "python",
   "name": "python3"
  },
  "language_info": {
   "codemirror_mode": {
    "name": "ipython",
    "version": 2
   },
   "file_extension": ".py",
   "mimetype": "text/x-python",
   "name": "python",
   "nbconvert_exporter": "python",
   "pygments_lexer": "ipython2",
   "version": "2.7.6"
  }
 },
 "nbformat": 4,
 "nbformat_minor": 0
}