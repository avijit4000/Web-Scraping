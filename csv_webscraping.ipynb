{
 "cells": [
  {
   "cell_type": "code",
   "execution_count": 1,
   "metadata": {
    "collapsed": true,
    "pycharm": {
     "name": "#%%\n"
    }
   },
   "outputs": [],
   "source": [
    "import bs4\n",
    "import urllib.request\n",
    "from urllib.request import urlopen\n",
    "from bs4 import BeautifulSoup as soup\n",
    "import csv"
   ]
  },
  {
   "cell_type": "code",
   "execution_count": null,
   "outputs": [],
   "source": [
    "filename='music.csv'\n",
    "f=open(filename,'w',newline=\" \")\n",
    "music=csv.writer(f)\n",
    "\n",
    "html=urlopen('')\n",
    "bsobj=soup(html.read())\n",
    "tbody=bsobj('tabel',{})\n",
    "xl=[]\n",
    "for row in tbody:\n",
    "    cols=row.findChildren(recursive=False)\n",
    "    cols=[element.text.strip() for element in cols]\n",
    "    music.writerow(cols)\n",
    "    xl.append(cols)\n",
    "    print(cols)"
   ],
   "metadata": {
    "collapsed": false,
    "pycharm": {
     "name": "#%%\n"
    }
   }
  }
 ],
 "metadata": {
  "kernelspec": {
   "display_name": "Python 3",
   "language": "python",
   "name": "python3"
  },
  "language_info": {
   "codemirror_mode": {
    "name": "ipython",
    "version": 2
   },
   "file_extension": ".py",
   "mimetype": "text/x-python",
   "name": "python",
   "nbconvert_exporter": "python",
   "pygments_lexer": "ipython2",
   "version": "2.7.6"
  }
 },
 "nbformat": 4,
 "nbformat_minor": 0
}